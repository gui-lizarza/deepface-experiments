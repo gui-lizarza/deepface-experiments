{
 "cells": [
  {
   "cell_type": "code",
   "execution_count": 1,
   "metadata": {
    "executionInfo": {
     "elapsed": 544,
     "status": "ok",
     "timestamp": 1609009517549,
     "user": {
      "displayName": "Guilherme Lizarzaburu",
      "photoUrl": "",
      "userId": "03523622916475028622"
     },
     "user_tz": 180
    },
    "id": "1pr0Xj3qwa4d",
    "scrolled": true
   },
   "outputs": [
    {
     "data": {
      "text/plain": [
       "'C:\\\\Users\\\\guilh\\\\OneDrive\\\\Área de Trabalho\\\\Repositories\\\\deepface-experiments'"
      ]
     },
     "execution_count": 1,
     "metadata": {},
     "output_type": "execute_result"
    }
   ],
   "source": [
    "import os \n",
    "os.getcwd()"
   ]
  },
  {
   "cell_type": "code",
   "execution_count": 2,
   "metadata": {
    "colab": {
     "base_uri": "https://localhost:8080/"
    },
    "executionInfo": {
     "elapsed": 5400,
     "status": "ok",
     "timestamp": 1609009524939,
     "user": {
      "displayName": "Guilherme Lizarzaburu",
      "photoUrl": "",
      "userId": "03523622916475028622"
     },
     "user_tz": 180
    },
    "id": "W_c9siqlwreT",
    "outputId": "ec9455fe-e058-4dae-d7bf-1b71d0a7081b"
   },
   "outputs": [],
   "source": [
    "from deepface_functions import make_dict, save_hash, metrics_dataframe, verification_dataframe, f1_calculation"
   ]
  },
  {
   "cell_type": "code",
   "execution_count": 3,
   "metadata": {
    "executionInfo": {
     "elapsed": 923,
     "status": "ok",
     "timestamp": 1609010976290,
     "user": {
      "displayName": "Guilherme Lizarzaburu",
      "photoUrl": "",
      "userId": "03523622916475028622"
     },
     "user_tz": 180
    },
    "id": "E2edEWE6xRR7"
   },
   "outputs": [],
   "source": [
    "dic = make_dict('Turing_Faces')"
   ]
  },
  {
   "cell_type": "code",
   "execution_count": 4,
   "metadata": {
    "colab": {
     "base_uri": "https://localhost:8080/"
    },
    "executionInfo": {
     "elapsed": 5171,
     "status": "ok",
     "timestamp": 1609007238630,
     "user": {
      "displayName": "Guilherme Lizarzaburu",
      "photoUrl": "",
      "userId": "03523622916475028622"
     },
     "user_tz": 180
    },
    "id": "WZt2xZ9V7hp9",
    "outputId": "31fd5e37-6662-420e-bd8b-144dd8117843"
   },
   "outputs": [
    {
     "data": {
      "text/plain": [
       "{'Alex_Koji1': 'Turing_Faces\\\\Alex_Koji\\\\Alex_Koji1.jpg',\n",
       " 'Ariel_Guerreiro1': 'Turing_Faces\\\\Ariel_Guerreiro\\\\Ariel_Guerreiro1.jpg',\n",
       " 'Ariel_Guerreiro2': 'Turing_Faces\\\\Ariel_Guerreiro\\\\Ariel_Guerreiro2.jpg',\n",
       " 'Camila_Fonseca1': 'Turing_Faces\\\\Camila_Fonseca\\\\Camila_Fonseca1.jpg',\n",
       " 'Camila_Fonseca2': 'Turing_Faces\\\\Camila_Fonseca\\\\Camila_Fonseca2.jpg',\n",
       " 'Eduardo_Eiras1': 'Turing_Faces\\\\Eduardo_Eiras\\\\Eduardo_Eiras1.jpg',\n",
       " 'Eduardo_Eiras2': 'Turing_Faces\\\\Eduardo_Eiras\\\\Eduardo_Eiras2.jpg',\n",
       " 'Eduardo_Eiras3': 'Turing_Faces\\\\Eduardo_Eiras\\\\Eduardo_Eiras3.jpg',\n",
       " 'Eduardo_Eiras4': 'Turing_Faces\\\\Eduardo_Eiras\\\\Eduardo_Eiras4.jpg',\n",
       " 'Eduardo_Eiras5': 'Turing_Faces\\\\Eduardo_Eiras\\\\Eduardo_Eiras5.jpg',\n",
       " 'Enzo_Bustos1': 'Turing_Faces\\\\Enzo_Bustos\\\\Enzo_Bustos1.jpg',\n",
       " 'Enzo_Bustos2': 'Turing_Faces\\\\Enzo_Bustos\\\\Enzo_Bustos2.jpg',\n",
       " 'Felipe_Azank1': 'Turing_Faces\\\\Felipe_Azank\\\\Felipe_Azank1.jpg',\n",
       " 'Felipe_Azank2': 'Turing_Faces\\\\Felipe_Azank\\\\Felipe_Azank2.jpg',\n",
       " 'Felipe_Azank3': 'Turing_Faces\\\\Felipe_Azank\\\\Felipe_Azank3.jpg',\n",
       " 'Guilherme_Cola1': 'Turing_Faces\\\\Guilherme_Cola\\\\Guilherme_Cola1.jpg',\n",
       " 'Guilherme_Cola2': 'Turing_Faces\\\\Guilherme_Cola\\\\Guilherme_Cola2.jpg',\n",
       " 'Guilherme_Goncalves1': 'Turing_Faces\\\\Guilherme_Goncalves\\\\Guilherme_Goncalves1.jpg',\n",
       " 'Guilherme_Goncalves2': 'Turing_Faces\\\\Guilherme_Goncalves\\\\Guilherme_Goncalves2.jpg',\n",
       " 'Leonardo_Murakami1': 'Turing_Faces\\\\Leonardo_Murakami\\\\Leonardo_Murakami1.jpg',\n",
       " 'Leonardo_Murakami2': 'Turing_Faces\\\\Leonardo_Murakami\\\\Leonardo_Murakami2.jpg',\n",
       " 'Luisa_Heise1': 'Turing_Faces\\\\Luisa_Heise\\\\Luisa_Heise1.jpg',\n",
       " 'Luisa_Heise2': 'Turing_Faces\\\\Luisa_Heise\\\\Luisa_Heise2.jpg',\n",
       " 'Nelson_Alves1': 'Turing_Faces\\\\Nelson_Alves\\\\Nelson_Alves1.jpg',\n",
       " 'Nelson_Alves2': 'Turing_Faces\\\\Nelson_Alves\\\\Nelson_Alves2.jpg',\n",
       " 'Noel_Viscome1': 'Turing_Faces\\\\Noel_Viscome\\\\Noel_Viscome1.jpg',\n",
       " 'Noel_Viscome2': 'Turing_Faces\\\\Noel_Viscome\\\\Noel_Viscome2.jpg',\n",
       " 'Paulo_Sestini1': 'Turing_Faces\\\\Paulo_Sestini\\\\Paulo_Sestini1.jpg',\n",
       " 'Paulo_Sestini2': 'Turing_Faces\\\\Paulo_Sestini\\\\Paulo_Sestini2.jpg',\n",
       " 'Rodrigo_Fill1': 'Turing_Faces\\\\Rodrigo_Fill\\\\Rodrigo_Fill1.jpg',\n",
       " 'Rodrigo_Fill2': 'Turing_Faces\\\\Rodrigo_Fill\\\\Rodrigo_Fill2.jpg',\n",
       " 'Victor_Jinsi1': 'Turing_Faces\\\\Victor_Jinsi\\\\Victor_Jinsi1.jpg'}"
      ]
     },
     "execution_count": 4,
     "metadata": {},
     "output_type": "execute_result"
    }
   ],
   "source": [
    "dic"
   ]
  },
  {
   "cell_type": "code",
   "execution_count": 5,
   "metadata": {
    "colab": {
     "base_uri": "https://localhost:8080/"
    },
    "executionInfo": {
     "elapsed": 207449,
     "status": "ok",
     "timestamp": 1609007440912,
     "user": {
      "displayName": "Guilherme Lizarzaburu",
      "photoUrl": "",
      "userId": "03523622916475028622"
     },
     "user_tz": 180
    },
    "id": "EujJ4T9fxkV1",
    "outputId": "c3ac80ed-7162-461b-a889-888b09a61df7"
   },
   "outputs": [
    {
     "name": "stdout",
     "output_type": "stream",
     "text": [
      "VGG-Face enabled\n",
      "Loading VGG-Face...\n"
     ]
    },
    {
     "name": "stderr",
     "output_type": "stream",
     "text": [
      "Avaliando Hash: 100%|███████████████████████████████████████████████████████████████████████████████████████████████████████████████████████████████████████████████████████████████████████████| 32/32 [01:01<00:00,  1.93s/it]\n"
     ]
    }
   ],
   "source": [
    "import time\n",
    "\n",
    "tic = time.time()\n",
    "#hash_df = save_hash(dic)\n",
    "hash_df = save_hash(dic, model_name='VGG-Face')\n",
    "toc = time.time()"
   ]
  },
  {
   "cell_type": "code",
   "execution_count": 6,
   "metadata": {
    "colab": {
     "base_uri": "https://localhost:8080/"
    },
    "executionInfo": {
     "elapsed": 207446,
     "status": "ok",
     "timestamp": 1609007440914,
     "user": {
      "displayName": "Guilherme Lizarzaburu",
      "photoUrl": "",
      "userId": "03523622916475028622"
     },
     "user_tz": 180
    },
    "id": "-wKpLNPESU_2",
    "outputId": "101ce619-4d05-4c06-fa2e-d76166dc4c40",
    "scrolled": true
   },
   "outputs": [
    {
     "name": "stdout",
     "output_type": "stream",
     "text": [
      "Tempo de avaliação do hash: 63.23943066596985 segundos\n"
     ]
    }
   ],
   "source": [
    "print('Tempo de avaliação do hash: {} segundos'.format(toc-tic))"
   ]
  },
  {
   "cell_type": "code",
   "execution_count": 7,
   "metadata": {
    "colab": {
     "base_uri": "https://localhost:8080/",
     "height": 1000
    },
    "executionInfo": {
     "elapsed": 207444,
     "status": "ok",
     "timestamp": 1609007440917,
     "user": {
      "displayName": "Guilherme Lizarzaburu",
      "photoUrl": "",
      "userId": "03523622916475028622"
     },
     "user_tz": 180
    },
    "id": "SY0etWbyxohQ",
    "outputId": "d91c05c7-fef6-40c8-8adf-163dc65c9d9d"
   },
   "outputs": [
    {
     "data": {
      "text/html": [
       "<div>\n",
       "<style scoped>\n",
       "    .dataframe tbody tr th:only-of-type {\n",
       "        vertical-align: middle;\n",
       "    }\n",
       "\n",
       "    .dataframe tbody tr th {\n",
       "        vertical-align: top;\n",
       "    }\n",
       "\n",
       "    .dataframe thead th {\n",
       "        text-align: right;\n",
       "    }\n",
       "</style>\n",
       "<table border=\"1\" class=\"dataframe\">\n",
       "  <thead>\n",
       "    <tr style=\"text-align: right;\">\n",
       "      <th></th>\n",
       "      <th>VGG-Face</th>\n",
       "    </tr>\n",
       "  </thead>\n",
       "  <tbody>\n",
       "    <tr>\n",
       "      <th>Alex_Koji1</th>\n",
       "      <td>[0.0086392155, 0.017736208, 0.006636068, 0.001...</td>\n",
       "    </tr>\n",
       "    <tr>\n",
       "      <th>Ariel_Guerreiro1</th>\n",
       "      <td>[0.016396403, 0.022537705, 0.026739173, 0.0057...</td>\n",
       "    </tr>\n",
       "    <tr>\n",
       "      <th>Ariel_Guerreiro2</th>\n",
       "      <td>[0.007125086, -0.0008715376, -0.004605629, -0....</td>\n",
       "    </tr>\n",
       "    <tr>\n",
       "      <th>Camila_Fonseca1</th>\n",
       "      <td>[0.017794965, 0.009751832, 0.016048808, -0.000...</td>\n",
       "    </tr>\n",
       "    <tr>\n",
       "      <th>Camila_Fonseca2</th>\n",
       "      <td>[0.0140333185, 0.01600257, 0.008675662, 0.0040...</td>\n",
       "    </tr>\n",
       "    <tr>\n",
       "      <th>Eduardo_Eiras1</th>\n",
       "      <td>[0.013070211, 0.010282652, 0.010386876, 0.0154...</td>\n",
       "    </tr>\n",
       "    <tr>\n",
       "      <th>Eduardo_Eiras2</th>\n",
       "      <td>[0.019692272, 0.013273981, 0.006163763, 0.0101...</td>\n",
       "    </tr>\n",
       "    <tr>\n",
       "      <th>Eduardo_Eiras3</th>\n",
       "      <td>[0.02190082, -0.004956074, -0.005209966, 0.013...</td>\n",
       "    </tr>\n",
       "    <tr>\n",
       "      <th>Eduardo_Eiras4</th>\n",
       "      <td>[0.019918295, 0.019295799, 0.0034984916, 0.013...</td>\n",
       "    </tr>\n",
       "    <tr>\n",
       "      <th>Eduardo_Eiras5</th>\n",
       "      <td>[0.02826969, 0.020960191, 0.01190432, 0.024148...</td>\n",
       "    </tr>\n",
       "    <tr>\n",
       "      <th>Enzo_Bustos1</th>\n",
       "      <td>[0.0052047353, -0.001019242, -0.0071295174, 0....</td>\n",
       "    </tr>\n",
       "    <tr>\n",
       "      <th>Enzo_Bustos2</th>\n",
       "      <td>[0.021687936, 0.0017843696, -0.014208895, 0.01...</td>\n",
       "    </tr>\n",
       "    <tr>\n",
       "      <th>Felipe_Azank1</th>\n",
       "      <td>[0.0102080805, 0.011881379, 0.0036844295, -0.0...</td>\n",
       "    </tr>\n",
       "    <tr>\n",
       "      <th>Felipe_Azank2</th>\n",
       "      <td>[0.00036183422, 7.891669e-05, 0.01523973, 0.00...</td>\n",
       "    </tr>\n",
       "    <tr>\n",
       "      <th>Felipe_Azank3</th>\n",
       "      <td>[0.017522983, 0.009197403, 0.012970537, -0.002...</td>\n",
       "    </tr>\n",
       "    <tr>\n",
       "      <th>Guilherme_Cola1</th>\n",
       "      <td>[0.014630789, -0.0066142464, 0.003111069, -0.0...</td>\n",
       "    </tr>\n",
       "    <tr>\n",
       "      <th>Guilherme_Cola2</th>\n",
       "      <td>[0.011654851, -0.0057755085, -0.0008899191, -0...</td>\n",
       "    </tr>\n",
       "    <tr>\n",
       "      <th>Guilherme_Goncalves1</th>\n",
       "      <td>[0.01099501, 0.0024738656, 0.00660169, 0.00783...</td>\n",
       "    </tr>\n",
       "    <tr>\n",
       "      <th>Guilherme_Goncalves2</th>\n",
       "      <td>[0.011594456, 0.005196715, 0.00489227, 0.00326...</td>\n",
       "    </tr>\n",
       "    <tr>\n",
       "      <th>Leonardo_Murakami1</th>\n",
       "      <td>[0.01923911, 0.00478429, 0.0011835946, 0.01146...</td>\n",
       "    </tr>\n",
       "    <tr>\n",
       "      <th>Leonardo_Murakami2</th>\n",
       "      <td>[0.013261525, 0.0024582502, -0.005812204, 0.00...</td>\n",
       "    </tr>\n",
       "    <tr>\n",
       "      <th>Luisa_Heise1</th>\n",
       "      <td>[0.0052500395, 0.008491025, -0.0056367307, 0.0...</td>\n",
       "    </tr>\n",
       "    <tr>\n",
       "      <th>Luisa_Heise2</th>\n",
       "      <td>[0.009173884, 0.009044164, 0.0128211975, -0.00...</td>\n",
       "    </tr>\n",
       "    <tr>\n",
       "      <th>Nelson_Alves1</th>\n",
       "      <td>[0.013194575, -0.011222638, -0.0037730448, 0.0...</td>\n",
       "    </tr>\n",
       "    <tr>\n",
       "      <th>Nelson_Alves2</th>\n",
       "      <td>[0.00071349845, -0.013238194, 0.0029992925, 0....</td>\n",
       "    </tr>\n",
       "    <tr>\n",
       "      <th>Noel_Viscome1</th>\n",
       "      <td>[0.01057137, 0.014612391, 0.013104834, 0.00012...</td>\n",
       "    </tr>\n",
       "    <tr>\n",
       "      <th>Noel_Viscome2</th>\n",
       "      <td>[0.012740263, 0.0016797632, 0.012025376, 0.011...</td>\n",
       "    </tr>\n",
       "    <tr>\n",
       "      <th>Paulo_Sestini1</th>\n",
       "      <td>[0.013840012, 0.0027538503, 0.0021925978, 0.00...</td>\n",
       "    </tr>\n",
       "    <tr>\n",
       "      <th>Paulo_Sestini2</th>\n",
       "      <td>[0.011659819, -0.003536787, -0.002077495, 0.00...</td>\n",
       "    </tr>\n",
       "    <tr>\n",
       "      <th>Rodrigo_Fill1</th>\n",
       "      <td>[0.0077494113, -0.007495925, -0.0031368476, 0....</td>\n",
       "    </tr>\n",
       "    <tr>\n",
       "      <th>Rodrigo_Fill2</th>\n",
       "      <td>[0.009312408, -0.0079911165, 0.0056018755, 0.0...</td>\n",
       "    </tr>\n",
       "    <tr>\n",
       "      <th>Victor_Jinsi1</th>\n",
       "      <td>[0.020186154, 0.0066049104, 0.0011170101, 0.01...</td>\n",
       "    </tr>\n",
       "  </tbody>\n",
       "</table>\n",
       "</div>"
      ],
      "text/plain": [
       "                                                               VGG-Face\n",
       "Alex_Koji1            [0.0086392155, 0.017736208, 0.006636068, 0.001...\n",
       "Ariel_Guerreiro1      [0.016396403, 0.022537705, 0.026739173, 0.0057...\n",
       "Ariel_Guerreiro2      [0.007125086, -0.0008715376, -0.004605629, -0....\n",
       "Camila_Fonseca1       [0.017794965, 0.009751832, 0.016048808, -0.000...\n",
       "Camila_Fonseca2       [0.0140333185, 0.01600257, 0.008675662, 0.0040...\n",
       "Eduardo_Eiras1        [0.013070211, 0.010282652, 0.010386876, 0.0154...\n",
       "Eduardo_Eiras2        [0.019692272, 0.013273981, 0.006163763, 0.0101...\n",
       "Eduardo_Eiras3        [0.02190082, -0.004956074, -0.005209966, 0.013...\n",
       "Eduardo_Eiras4        [0.019918295, 0.019295799, 0.0034984916, 0.013...\n",
       "Eduardo_Eiras5        [0.02826969, 0.020960191, 0.01190432, 0.024148...\n",
       "Enzo_Bustos1          [0.0052047353, -0.001019242, -0.0071295174, 0....\n",
       "Enzo_Bustos2          [0.021687936, 0.0017843696, -0.014208895, 0.01...\n",
       "Felipe_Azank1         [0.0102080805, 0.011881379, 0.0036844295, -0.0...\n",
       "Felipe_Azank2         [0.00036183422, 7.891669e-05, 0.01523973, 0.00...\n",
       "Felipe_Azank3         [0.017522983, 0.009197403, 0.012970537, -0.002...\n",
       "Guilherme_Cola1       [0.014630789, -0.0066142464, 0.003111069, -0.0...\n",
       "Guilherme_Cola2       [0.011654851, -0.0057755085, -0.0008899191, -0...\n",
       "Guilherme_Goncalves1  [0.01099501, 0.0024738656, 0.00660169, 0.00783...\n",
       "Guilherme_Goncalves2  [0.011594456, 0.005196715, 0.00489227, 0.00326...\n",
       "Leonardo_Murakami1    [0.01923911, 0.00478429, 0.0011835946, 0.01146...\n",
       "Leonardo_Murakami2    [0.013261525, 0.0024582502, -0.005812204, 0.00...\n",
       "Luisa_Heise1          [0.0052500395, 0.008491025, -0.0056367307, 0.0...\n",
       "Luisa_Heise2          [0.009173884, 0.009044164, 0.0128211975, -0.00...\n",
       "Nelson_Alves1         [0.013194575, -0.011222638, -0.0037730448, 0.0...\n",
       "Nelson_Alves2         [0.00071349845, -0.013238194, 0.0029992925, 0....\n",
       "Noel_Viscome1         [0.01057137, 0.014612391, 0.013104834, 0.00012...\n",
       "Noel_Viscome2         [0.012740263, 0.0016797632, 0.012025376, 0.011...\n",
       "Paulo_Sestini1        [0.013840012, 0.0027538503, 0.0021925978, 0.00...\n",
       "Paulo_Sestini2        [0.011659819, -0.003536787, -0.002077495, 0.00...\n",
       "Rodrigo_Fill1         [0.0077494113, -0.007495925, -0.0031368476, 0....\n",
       "Rodrigo_Fill2         [0.009312408, -0.0079911165, 0.0056018755, 0.0...\n",
       "Victor_Jinsi1         [0.020186154, 0.0066049104, 0.0011170101, 0.01..."
      ]
     },
     "execution_count": 7,
     "metadata": {},
     "output_type": "execute_result"
    }
   ],
   "source": [
    "hash_df"
   ]
  },
  {
   "cell_type": "code",
   "execution_count": 8,
   "metadata": {
    "executionInfo": {
     "elapsed": 207441,
     "status": "ok",
     "timestamp": 1609007440918,
     "user": {
      "displayName": "Guilherme Lizarzaburu",
      "photoUrl": "",
      "userId": "03523622916475028622"
     },
     "user_tz": 180
    },
    "id": "ld60vWVKwSLg"
   },
   "outputs": [],
   "source": [
    "hash_df.to_pickle('hash_df.pkl', protocol=4)"
   ]
  },
  {
   "cell_type": "markdown",
   "metadata": {},
   "source": [
    "import pandas as pd\n",
    "hash_df = pd.read_pickle('hash_df.pkl')"
   ]
  },
  {
   "cell_type": "code",
   "execution_count": 9,
   "metadata": {
    "colab": {
     "base_uri": "https://localhost:8080/"
    },
    "executionInfo": {
     "elapsed": 207735,
     "status": "ok",
     "timestamp": 1609007441217,
     "user": {
      "displayName": "Guilherme Lizarzaburu",
      "photoUrl": "",
      "userId": "03523622916475028622"
     },
     "user_tz": 180
    },
    "id": "X8ZfCFtswb8f",
    "outputId": "1bae91e1-1aef-41a5-f940-4f776d7c67ba",
    "scrolled": true
   },
   "outputs": [
    {
     "name": "stderr",
     "output_type": "stream",
     "text": [
      "Avaliando a primeira pessoa em relação a todas as outras.: 100%|███████████████████████████████████████████████████████████████████████████████████████████████████████████████████████████████| 31/31 [00:00<00:00, 425.60it/s]\n"
     ]
    }
   ],
   "source": [
    "metrics_one = metrics_dataframe(hash_df, one_compair=True)"
   ]
  },
  {
   "cell_type": "code",
   "execution_count": 10,
   "metadata": {
    "colab": {
     "base_uri": "https://localhost:8080/",
     "height": 1000
    },
    "executionInfo": {
     "elapsed": 207730,
     "status": "ok",
     "timestamp": 1609007441218,
     "user": {
      "displayName": "Guilherme Lizarzaburu",
      "photoUrl": "",
      "userId": "03523622916475028622"
     },
     "user_tz": 180
    },
    "id": "kLJTien5wbmh",
    "outputId": "eb3c1076-37e0-452a-f70c-fa63437eae32"
   },
   "outputs": [
    {
     "data": {
      "text/html": [
       "<div>\n",
       "<style scoped>\n",
       "    .dataframe tbody tr th:only-of-type {\n",
       "        vertical-align: middle;\n",
       "    }\n",
       "\n",
       "    .dataframe tbody tr th {\n",
       "        vertical-align: top;\n",
       "    }\n",
       "\n",
       "    .dataframe thead th {\n",
       "        text-align: right;\n",
       "    }\n",
       "</style>\n",
       "<table border=\"1\" class=\"dataframe\">\n",
       "  <thead>\n",
       "    <tr style=\"text-align: right;\">\n",
       "      <th></th>\n",
       "      <th>Cosine with VGG-Face</th>\n",
       "    </tr>\n",
       "  </thead>\n",
       "  <tbody>\n",
       "    <tr>\n",
       "      <th>Alex_Koji1-Ariel_Guerreiro1</th>\n",
       "      <td>0.514248</td>\n",
       "    </tr>\n",
       "    <tr>\n",
       "      <th>Alex_Koji1-Ariel_Guerreiro2</th>\n",
       "      <td>0.440995</td>\n",
       "    </tr>\n",
       "    <tr>\n",
       "      <th>Alex_Koji1-Camila_Fonseca1</th>\n",
       "      <td>0.459888</td>\n",
       "    </tr>\n",
       "    <tr>\n",
       "      <th>Alex_Koji1-Camila_Fonseca2</th>\n",
       "      <td>0.480395</td>\n",
       "    </tr>\n",
       "    <tr>\n",
       "      <th>Alex_Koji1-Eduardo_Eiras1</th>\n",
       "      <td>0.614922</td>\n",
       "    </tr>\n",
       "    <tr>\n",
       "      <th>Alex_Koji1-Eduardo_Eiras2</th>\n",
       "      <td>0.509734</td>\n",
       "    </tr>\n",
       "    <tr>\n",
       "      <th>Alex_Koji1-Eduardo_Eiras3</th>\n",
       "      <td>0.568624</td>\n",
       "    </tr>\n",
       "    <tr>\n",
       "      <th>Alex_Koji1-Eduardo_Eiras4</th>\n",
       "      <td>0.386583</td>\n",
       "    </tr>\n",
       "    <tr>\n",
       "      <th>Alex_Koji1-Eduardo_Eiras5</th>\n",
       "      <td>0.481799</td>\n",
       "    </tr>\n",
       "    <tr>\n",
       "      <th>Alex_Koji1-Enzo_Bustos1</th>\n",
       "      <td>0.529563</td>\n",
       "    </tr>\n",
       "    <tr>\n",
       "      <th>Alex_Koji1-Enzo_Bustos2</th>\n",
       "      <td>0.524049</td>\n",
       "    </tr>\n",
       "    <tr>\n",
       "      <th>Alex_Koji1-Felipe_Azank1</th>\n",
       "      <td>0.518520</td>\n",
       "    </tr>\n",
       "    <tr>\n",
       "      <th>Alex_Koji1-Felipe_Azank2</th>\n",
       "      <td>0.541518</td>\n",
       "    </tr>\n",
       "    <tr>\n",
       "      <th>Alex_Koji1-Felipe_Azank3</th>\n",
       "      <td>0.499013</td>\n",
       "    </tr>\n",
       "    <tr>\n",
       "      <th>Alex_Koji1-Guilherme_Cola1</th>\n",
       "      <td>0.574419</td>\n",
       "    </tr>\n",
       "    <tr>\n",
       "      <th>Alex_Koji1-Guilherme_Cola2</th>\n",
       "      <td>0.629209</td>\n",
       "    </tr>\n",
       "    <tr>\n",
       "      <th>Alex_Koji1-Guilherme_Goncalves1</th>\n",
       "      <td>0.442308</td>\n",
       "    </tr>\n",
       "    <tr>\n",
       "      <th>Alex_Koji1-Guilherme_Goncalves2</th>\n",
       "      <td>0.478425</td>\n",
       "    </tr>\n",
       "    <tr>\n",
       "      <th>Alex_Koji1-Leonardo_Murakami1</th>\n",
       "      <td>0.517960</td>\n",
       "    </tr>\n",
       "    <tr>\n",
       "      <th>Alex_Koji1-Leonardo_Murakami2</th>\n",
       "      <td>0.503019</td>\n",
       "    </tr>\n",
       "    <tr>\n",
       "      <th>Alex_Koji1-Luisa_Heise1</th>\n",
       "      <td>0.589341</td>\n",
       "    </tr>\n",
       "    <tr>\n",
       "      <th>Alex_Koji1-Luisa_Heise2</th>\n",
       "      <td>0.650231</td>\n",
       "    </tr>\n",
       "    <tr>\n",
       "      <th>Alex_Koji1-Nelson_Alves1</th>\n",
       "      <td>0.508852</td>\n",
       "    </tr>\n",
       "    <tr>\n",
       "      <th>Alex_Koji1-Nelson_Alves2</th>\n",
       "      <td>0.413913</td>\n",
       "    </tr>\n",
       "    <tr>\n",
       "      <th>Alex_Koji1-Noel_Viscome1</th>\n",
       "      <td>0.533655</td>\n",
       "    </tr>\n",
       "    <tr>\n",
       "      <th>Alex_Koji1-Noel_Viscome2</th>\n",
       "      <td>0.452486</td>\n",
       "    </tr>\n",
       "    <tr>\n",
       "      <th>Alex_Koji1-Paulo_Sestini1</th>\n",
       "      <td>0.521601</td>\n",
       "    </tr>\n",
       "    <tr>\n",
       "      <th>Alex_Koji1-Paulo_Sestini2</th>\n",
       "      <td>0.494113</td>\n",
       "    </tr>\n",
       "    <tr>\n",
       "      <th>Alex_Koji1-Rodrigo_Fill1</th>\n",
       "      <td>0.683054</td>\n",
       "    </tr>\n",
       "    <tr>\n",
       "      <th>Alex_Koji1-Rodrigo_Fill2</th>\n",
       "      <td>0.714531</td>\n",
       "    </tr>\n",
       "    <tr>\n",
       "      <th>Alex_Koji1-Victor_Jinsi1</th>\n",
       "      <td>0.478078</td>\n",
       "    </tr>\n",
       "  </tbody>\n",
       "</table>\n",
       "</div>"
      ],
      "text/plain": [
       "                                 Cosine with VGG-Face\n",
       "Alex_Koji1-Ariel_Guerreiro1                  0.514248\n",
       "Alex_Koji1-Ariel_Guerreiro2                  0.440995\n",
       "Alex_Koji1-Camila_Fonseca1                   0.459888\n",
       "Alex_Koji1-Camila_Fonseca2                   0.480395\n",
       "Alex_Koji1-Eduardo_Eiras1                    0.614922\n",
       "Alex_Koji1-Eduardo_Eiras2                    0.509734\n",
       "Alex_Koji1-Eduardo_Eiras3                    0.568624\n",
       "Alex_Koji1-Eduardo_Eiras4                    0.386583\n",
       "Alex_Koji1-Eduardo_Eiras5                    0.481799\n",
       "Alex_Koji1-Enzo_Bustos1                      0.529563\n",
       "Alex_Koji1-Enzo_Bustos2                      0.524049\n",
       "Alex_Koji1-Felipe_Azank1                     0.518520\n",
       "Alex_Koji1-Felipe_Azank2                     0.541518\n",
       "Alex_Koji1-Felipe_Azank3                     0.499013\n",
       "Alex_Koji1-Guilherme_Cola1                   0.574419\n",
       "Alex_Koji1-Guilherme_Cola2                   0.629209\n",
       "Alex_Koji1-Guilherme_Goncalves1              0.442308\n",
       "Alex_Koji1-Guilherme_Goncalves2              0.478425\n",
       "Alex_Koji1-Leonardo_Murakami1                0.517960\n",
       "Alex_Koji1-Leonardo_Murakami2                0.503019\n",
       "Alex_Koji1-Luisa_Heise1                      0.589341\n",
       "Alex_Koji1-Luisa_Heise2                      0.650231\n",
       "Alex_Koji1-Nelson_Alves1                     0.508852\n",
       "Alex_Koji1-Nelson_Alves2                     0.413913\n",
       "Alex_Koji1-Noel_Viscome1                     0.533655\n",
       "Alex_Koji1-Noel_Viscome2                     0.452486\n",
       "Alex_Koji1-Paulo_Sestini1                    0.521601\n",
       "Alex_Koji1-Paulo_Sestini2                    0.494113\n",
       "Alex_Koji1-Rodrigo_Fill1                     0.683054\n",
       "Alex_Koji1-Rodrigo_Fill2                     0.714531\n",
       "Alex_Koji1-Victor_Jinsi1                     0.478078"
      ]
     },
     "execution_count": 10,
     "metadata": {},
     "output_type": "execute_result"
    }
   ],
   "source": [
    "metrics_one"
   ]
  },
  {
   "cell_type": "code",
   "execution_count": 11,
   "metadata": {
    "executionInfo": {
     "elapsed": 207728,
     "status": "ok",
     "timestamp": 1609007441220,
     "user": {
      "displayName": "Guilherme Lizarzaburu",
      "photoUrl": "",
      "userId": "03523622916475028622"
     },
     "user_tz": 180
    },
    "id": "yDzxbxudwbax"
   },
   "outputs": [],
   "source": [
    "metrics_one.to_pickle('metrics_one.pkl', protocol=4)"
   ]
  },
  {
   "cell_type": "markdown",
   "metadata": {},
   "source": [
    "import pandas as pd\n",
    "metrics_one = pd.read_pickle('metrics_one.pkl')"
   ]
  },
  {
   "cell_type": "code",
   "execution_count": 12,
   "metadata": {
    "colab": {
     "base_uri": "https://localhost:8080/"
    },
    "executionInfo": {
     "elapsed": 210103,
     "status": "ok",
     "timestamp": 1609007443598,
     "user": {
      "displayName": "Guilherme Lizarzaburu",
      "photoUrl": "",
      "userId": "03523622916475028622"
     },
     "user_tz": 180
    },
    "id": "TEgUE1hew51H",
    "outputId": "f038762f-86e3-4fe8-a26e-cf917a038464"
   },
   "outputs": [
    {
     "name": "stderr",
     "output_type": "stream",
     "text": [
      "Avaliando cada pessoa em relação a todas as outras.: 100%|█████████████████████████████████████████████████████████████████████████████████████████████████████████████████████████████████████| 32/32 [00:00<00:00, 471.62it/s]\n"
     ]
    }
   ],
   "source": [
    "metrics = metrics_dataframe(hash_df, one_compair=False)"
   ]
  },
  {
   "cell_type": "code",
   "execution_count": 13,
   "metadata": {
    "colab": {
     "base_uri": "https://localhost:8080/",
     "height": 632
    },
    "executionInfo": {
     "elapsed": 210100,
     "status": "ok",
     "timestamp": 1609007443599,
     "user": {
      "displayName": "Guilherme Lizarzaburu",
      "photoUrl": "",
      "userId": "03523622916475028622"
     },
     "user_tz": 180
    },
    "id": "dyFQm8Grw5x3",
    "outputId": "160e9932-72e2-40c2-ddf5-cdc733adc1f2"
   },
   "outputs": [
    {
     "data": {
      "text/html": [
       "<div>\n",
       "<style scoped>\n",
       "    .dataframe tbody tr th:only-of-type {\n",
       "        vertical-align: middle;\n",
       "    }\n",
       "\n",
       "    .dataframe tbody tr th {\n",
       "        vertical-align: top;\n",
       "    }\n",
       "\n",
       "    .dataframe thead th {\n",
       "        text-align: right;\n",
       "    }\n",
       "</style>\n",
       "<table border=\"1\" class=\"dataframe\">\n",
       "  <thead>\n",
       "    <tr style=\"text-align: right;\">\n",
       "      <th></th>\n",
       "      <th>Cosine with VGG-Face</th>\n",
       "    </tr>\n",
       "  </thead>\n",
       "  <tbody>\n",
       "    <tr>\n",
       "      <th>Alex_Koji1-Alex_Koji1</th>\n",
       "      <td>-1.192093e-07</td>\n",
       "    </tr>\n",
       "    <tr>\n",
       "      <th>Alex_Koji1-Ariel_Guerreiro1</th>\n",
       "      <td>5.142475e-01</td>\n",
       "    </tr>\n",
       "    <tr>\n",
       "      <th>Alex_Koji1-Ariel_Guerreiro2</th>\n",
       "      <td>4.409955e-01</td>\n",
       "    </tr>\n",
       "    <tr>\n",
       "      <th>Alex_Koji1-Camila_Fonseca1</th>\n",
       "      <td>4.598879e-01</td>\n",
       "    </tr>\n",
       "    <tr>\n",
       "      <th>Alex_Koji1-Camila_Fonseca2</th>\n",
       "      <td>4.803946e-01</td>\n",
       "    </tr>\n",
       "    <tr>\n",
       "      <th>...</th>\n",
       "      <td>...</td>\n",
       "    </tr>\n",
       "    <tr>\n",
       "      <th>Victor_Jinsi1-Paulo_Sestini1</th>\n",
       "      <td>3.219095e-01</td>\n",
       "    </tr>\n",
       "    <tr>\n",
       "      <th>Victor_Jinsi1-Paulo_Sestini2</th>\n",
       "      <td>2.820566e-01</td>\n",
       "    </tr>\n",
       "    <tr>\n",
       "      <th>Victor_Jinsi1-Rodrigo_Fill1</th>\n",
       "      <td>5.818529e-01</td>\n",
       "    </tr>\n",
       "    <tr>\n",
       "      <th>Victor_Jinsi1-Rodrigo_Fill2</th>\n",
       "      <td>4.903139e-01</td>\n",
       "    </tr>\n",
       "    <tr>\n",
       "      <th>Victor_Jinsi1-Victor_Jinsi1</th>\n",
       "      <td>1.192093e-07</td>\n",
       "    </tr>\n",
       "  </tbody>\n",
       "</table>\n",
       "<p>1024 rows × 1 columns</p>\n",
       "</div>"
      ],
      "text/plain": [
       "                              Cosine with VGG-Face\n",
       "Alex_Koji1-Alex_Koji1                -1.192093e-07\n",
       "Alex_Koji1-Ariel_Guerreiro1           5.142475e-01\n",
       "Alex_Koji1-Ariel_Guerreiro2           4.409955e-01\n",
       "Alex_Koji1-Camila_Fonseca1            4.598879e-01\n",
       "Alex_Koji1-Camila_Fonseca2            4.803946e-01\n",
       "...                                            ...\n",
       "Victor_Jinsi1-Paulo_Sestini1          3.219095e-01\n",
       "Victor_Jinsi1-Paulo_Sestini2          2.820566e-01\n",
       "Victor_Jinsi1-Rodrigo_Fill1           5.818529e-01\n",
       "Victor_Jinsi1-Rodrigo_Fill2           4.903139e-01\n",
       "Victor_Jinsi1-Victor_Jinsi1           1.192093e-07\n",
       "\n",
       "[1024 rows x 1 columns]"
      ]
     },
     "execution_count": 13,
     "metadata": {},
     "output_type": "execute_result"
    }
   ],
   "source": [
    "metrics"
   ]
  },
  {
   "cell_type": "code",
   "execution_count": 14,
   "metadata": {
    "executionInfo": {
     "elapsed": 210097,
     "status": "ok",
     "timestamp": 1609007443600,
     "user": {
      "displayName": "Guilherme Lizarzaburu",
      "photoUrl": "",
      "userId": "03523622916475028622"
     },
     "user_tz": 180
    },
    "id": "k_pym_JFw5vZ"
   },
   "outputs": [],
   "source": [
    "metrics.to_pickle('metrics.pkl', protocol=4)"
   ]
  },
  {
   "cell_type": "markdown",
   "metadata": {},
   "source": [
    "import pandas as pd\n",
    "metrics = pd.read_pickle('metrics.pkl')"
   ]
  },
  {
   "cell_type": "code",
   "execution_count": 15,
   "metadata": {
    "colab": {
     "base_uri": "https://localhost:8080/"
    },
    "executionInfo": {
     "elapsed": 211319,
     "status": "ok",
     "timestamp": 1609007444826,
     "user": {
      "displayName": "Guilherme Lizarzaburu",
      "photoUrl": "",
      "userId": "03523622916475028622"
     },
     "user_tz": 180
    },
    "id": "hMuS7hG5Pzy_",
    "outputId": "3f033948-c06b-4739-e256-138eab7abfe5"
   },
   "outputs": [
    {
     "name": "stderr",
     "output_type": "stream",
     "text": [
      "Realizando a verificação para cada par de indivíduos...: 100%|████████████████████████████████████████████████████████████████████████████████████████████████████████████████████████████████| 31/31 [00:00<00:00, 3108.45it/s]\n"
     ]
    }
   ],
   "source": [
    "verification_one = verification_dataframe(metrics_one)"
   ]
  },
  {
   "cell_type": "code",
   "execution_count": 16,
   "metadata": {
    "colab": {
     "base_uri": "https://localhost:8080/",
     "height": 1000
    },
    "executionInfo": {
     "elapsed": 211319,
     "status": "ok",
     "timestamp": 1609007444829,
     "user": {
      "displayName": "Guilherme Lizarzaburu",
      "photoUrl": "",
      "userId": "03523622916475028622"
     },
     "user_tz": 180
    },
    "id": "r_f9iu8UWfnT",
    "outputId": "878fdddb-4d79-455e-f5e9-ab2e2e2ca829"
   },
   "outputs": [
    {
     "data": {
      "text/html": [
       "<div>\n",
       "<style scoped>\n",
       "    .dataframe tbody tr th:only-of-type {\n",
       "        vertical-align: middle;\n",
       "    }\n",
       "\n",
       "    .dataframe tbody tr th {\n",
       "        vertical-align: top;\n",
       "    }\n",
       "\n",
       "    .dataframe thead th {\n",
       "        text-align: right;\n",
       "    }\n",
       "</style>\n",
       "<table border=\"1\" class=\"dataframe\">\n",
       "  <thead>\n",
       "    <tr style=\"text-align: right;\">\n",
       "      <th></th>\n",
       "      <th>Verified</th>\n",
       "      <th>Ground Truth</th>\n",
       "    </tr>\n",
       "  </thead>\n",
       "  <tbody>\n",
       "    <tr>\n",
       "      <th>Alex_Koji1-Ariel_Guerreiro1</th>\n",
       "      <td>false</td>\n",
       "      <td>false</td>\n",
       "    </tr>\n",
       "    <tr>\n",
       "      <th>Alex_Koji1-Ariel_Guerreiro2</th>\n",
       "      <td>false</td>\n",
       "      <td>false</td>\n",
       "    </tr>\n",
       "    <tr>\n",
       "      <th>Alex_Koji1-Camila_Fonseca1</th>\n",
       "      <td>false</td>\n",
       "      <td>false</td>\n",
       "    </tr>\n",
       "    <tr>\n",
       "      <th>Alex_Koji1-Camila_Fonseca2</th>\n",
       "      <td>false</td>\n",
       "      <td>false</td>\n",
       "    </tr>\n",
       "    <tr>\n",
       "      <th>Alex_Koji1-Eduardo_Eiras1</th>\n",
       "      <td>false</td>\n",
       "      <td>false</td>\n",
       "    </tr>\n",
       "    <tr>\n",
       "      <th>Alex_Koji1-Eduardo_Eiras2</th>\n",
       "      <td>false</td>\n",
       "      <td>false</td>\n",
       "    </tr>\n",
       "    <tr>\n",
       "      <th>Alex_Koji1-Eduardo_Eiras3</th>\n",
       "      <td>false</td>\n",
       "      <td>false</td>\n",
       "    </tr>\n",
       "    <tr>\n",
       "      <th>Alex_Koji1-Eduardo_Eiras4</th>\n",
       "      <td>false</td>\n",
       "      <td>false</td>\n",
       "    </tr>\n",
       "    <tr>\n",
       "      <th>Alex_Koji1-Eduardo_Eiras5</th>\n",
       "      <td>false</td>\n",
       "      <td>false</td>\n",
       "    </tr>\n",
       "    <tr>\n",
       "      <th>Alex_Koji1-Enzo_Bustos1</th>\n",
       "      <td>false</td>\n",
       "      <td>false</td>\n",
       "    </tr>\n",
       "    <tr>\n",
       "      <th>Alex_Koji1-Enzo_Bustos2</th>\n",
       "      <td>false</td>\n",
       "      <td>false</td>\n",
       "    </tr>\n",
       "    <tr>\n",
       "      <th>Alex_Koji1-Felipe_Azank1</th>\n",
       "      <td>false</td>\n",
       "      <td>false</td>\n",
       "    </tr>\n",
       "    <tr>\n",
       "      <th>Alex_Koji1-Felipe_Azank2</th>\n",
       "      <td>false</td>\n",
       "      <td>false</td>\n",
       "    </tr>\n",
       "    <tr>\n",
       "      <th>Alex_Koji1-Felipe_Azank3</th>\n",
       "      <td>false</td>\n",
       "      <td>false</td>\n",
       "    </tr>\n",
       "    <tr>\n",
       "      <th>Alex_Koji1-Guilherme_Cola1</th>\n",
       "      <td>false</td>\n",
       "      <td>false</td>\n",
       "    </tr>\n",
       "    <tr>\n",
       "      <th>Alex_Koji1-Guilherme_Cola2</th>\n",
       "      <td>false</td>\n",
       "      <td>false</td>\n",
       "    </tr>\n",
       "    <tr>\n",
       "      <th>Alex_Koji1-Guilherme_Goncalves1</th>\n",
       "      <td>false</td>\n",
       "      <td>false</td>\n",
       "    </tr>\n",
       "    <tr>\n",
       "      <th>Alex_Koji1-Guilherme_Goncalves2</th>\n",
       "      <td>false</td>\n",
       "      <td>false</td>\n",
       "    </tr>\n",
       "    <tr>\n",
       "      <th>Alex_Koji1-Leonardo_Murakami1</th>\n",
       "      <td>false</td>\n",
       "      <td>false</td>\n",
       "    </tr>\n",
       "    <tr>\n",
       "      <th>Alex_Koji1-Leonardo_Murakami2</th>\n",
       "      <td>false</td>\n",
       "      <td>false</td>\n",
       "    </tr>\n",
       "    <tr>\n",
       "      <th>Alex_Koji1-Luisa_Heise1</th>\n",
       "      <td>false</td>\n",
       "      <td>false</td>\n",
       "    </tr>\n",
       "    <tr>\n",
       "      <th>Alex_Koji1-Luisa_Heise2</th>\n",
       "      <td>false</td>\n",
       "      <td>false</td>\n",
       "    </tr>\n",
       "    <tr>\n",
       "      <th>Alex_Koji1-Nelson_Alves1</th>\n",
       "      <td>false</td>\n",
       "      <td>false</td>\n",
       "    </tr>\n",
       "    <tr>\n",
       "      <th>Alex_Koji1-Nelson_Alves2</th>\n",
       "      <td>false</td>\n",
       "      <td>false</td>\n",
       "    </tr>\n",
       "    <tr>\n",
       "      <th>Alex_Koji1-Noel_Viscome1</th>\n",
       "      <td>false</td>\n",
       "      <td>false</td>\n",
       "    </tr>\n",
       "    <tr>\n",
       "      <th>Alex_Koji1-Noel_Viscome2</th>\n",
       "      <td>false</td>\n",
       "      <td>false</td>\n",
       "    </tr>\n",
       "    <tr>\n",
       "      <th>Alex_Koji1-Paulo_Sestini1</th>\n",
       "      <td>false</td>\n",
       "      <td>false</td>\n",
       "    </tr>\n",
       "    <tr>\n",
       "      <th>Alex_Koji1-Paulo_Sestini2</th>\n",
       "      <td>false</td>\n",
       "      <td>false</td>\n",
       "    </tr>\n",
       "    <tr>\n",
       "      <th>Alex_Koji1-Rodrigo_Fill1</th>\n",
       "      <td>false</td>\n",
       "      <td>false</td>\n",
       "    </tr>\n",
       "    <tr>\n",
       "      <th>Alex_Koji1-Rodrigo_Fill2</th>\n",
       "      <td>false</td>\n",
       "      <td>false</td>\n",
       "    </tr>\n",
       "    <tr>\n",
       "      <th>Alex_Koji1-Victor_Jinsi1</th>\n",
       "      <td>false</td>\n",
       "      <td>false</td>\n",
       "    </tr>\n",
       "  </tbody>\n",
       "</table>\n",
       "</div>"
      ],
      "text/plain": [
       "                                Verified Ground Truth\n",
       "Alex_Koji1-Ariel_Guerreiro1        false        false\n",
       "Alex_Koji1-Ariel_Guerreiro2        false        false\n",
       "Alex_Koji1-Camila_Fonseca1         false        false\n",
       "Alex_Koji1-Camila_Fonseca2         false        false\n",
       "Alex_Koji1-Eduardo_Eiras1          false        false\n",
       "Alex_Koji1-Eduardo_Eiras2          false        false\n",
       "Alex_Koji1-Eduardo_Eiras3          false        false\n",
       "Alex_Koji1-Eduardo_Eiras4          false        false\n",
       "Alex_Koji1-Eduardo_Eiras5          false        false\n",
       "Alex_Koji1-Enzo_Bustos1            false        false\n",
       "Alex_Koji1-Enzo_Bustos2            false        false\n",
       "Alex_Koji1-Felipe_Azank1           false        false\n",
       "Alex_Koji1-Felipe_Azank2           false        false\n",
       "Alex_Koji1-Felipe_Azank3           false        false\n",
       "Alex_Koji1-Guilherme_Cola1         false        false\n",
       "Alex_Koji1-Guilherme_Cola2         false        false\n",
       "Alex_Koji1-Guilherme_Goncalves1    false        false\n",
       "Alex_Koji1-Guilherme_Goncalves2    false        false\n",
       "Alex_Koji1-Leonardo_Murakami1      false        false\n",
       "Alex_Koji1-Leonardo_Murakami2      false        false\n",
       "Alex_Koji1-Luisa_Heise1            false        false\n",
       "Alex_Koji1-Luisa_Heise2            false        false\n",
       "Alex_Koji1-Nelson_Alves1           false        false\n",
       "Alex_Koji1-Nelson_Alves2           false        false\n",
       "Alex_Koji1-Noel_Viscome1           false        false\n",
       "Alex_Koji1-Noel_Viscome2           false        false\n",
       "Alex_Koji1-Paulo_Sestini1          false        false\n",
       "Alex_Koji1-Paulo_Sestini2          false        false\n",
       "Alex_Koji1-Rodrigo_Fill1           false        false\n",
       "Alex_Koji1-Rodrigo_Fill2           false        false\n",
       "Alex_Koji1-Victor_Jinsi1           false        false"
      ]
     },
     "execution_count": 16,
     "metadata": {},
     "output_type": "execute_result"
    }
   ],
   "source": [
    "verification_one"
   ]
  },
  {
   "cell_type": "code",
   "execution_count": 17,
   "metadata": {
    "executionInfo": {
     "elapsed": 211609,
     "status": "ok",
     "timestamp": 1609007445121,
     "user": {
      "displayName": "Guilherme Lizarzaburu",
      "photoUrl": "",
      "userId": "03523622916475028622"
     },
     "user_tz": 180
    },
    "id": "U4YJI43FZuUR"
   },
   "outputs": [],
   "source": [
    "verification_one.to_pickle('verification_one.pkl', protocol=4)"
   ]
  },
  {
   "cell_type": "markdown",
   "metadata": {},
   "source": [
    "import pandas as pd\n",
    "verification_one = pd.read_pickle('verification_one.pkl')"
   ]
  },
  {
   "cell_type": "code",
   "execution_count": 18,
   "metadata": {
    "colab": {
     "base_uri": "https://localhost:8080/"
    },
    "executionInfo": {
     "elapsed": 212207,
     "status": "ok",
     "timestamp": 1609007445721,
     "user": {
      "displayName": "Guilherme Lizarzaburu",
      "photoUrl": "",
      "userId": "03523622916475028622"
     },
     "user_tz": 180
    },
    "id": "RfwYNdi4ZjY6",
    "outputId": "5e83322c-0a6a-44f3-eaab-8b3a3acaa114",
    "scrolled": true
   },
   "outputs": [
    {
     "name": "stderr",
     "output_type": "stream",
     "text": [
      "Realizando a verificação para cada par de indivíduos...: 100%|████████████████████████████████████████████████████████████████████████████████████████████████████████████████████████████| 1024/1024 [00:00<00:00, 4123.47it/s]\n"
     ]
    }
   ],
   "source": [
    "verification = verification_dataframe(metrics)"
   ]
  },
  {
   "cell_type": "code",
   "execution_count": 19,
   "metadata": {
    "colab": {
     "base_uri": "https://localhost:8080/",
     "height": 424
    },
    "executionInfo": {
     "elapsed": 212205,
     "status": "ok",
     "timestamp": 1609007445722,
     "user": {
      "displayName": "Guilherme Lizarzaburu",
      "photoUrl": "",
      "userId": "03523622916475028622"
     },
     "user_tz": 180
    },
    "id": "KaFc1jCRZ99B",
    "outputId": "3366ed16-d359-4aae-e07a-2a05e4194520"
   },
   "outputs": [
    {
     "data": {
      "text/html": [
       "<div>\n",
       "<style scoped>\n",
       "    .dataframe tbody tr th:only-of-type {\n",
       "        vertical-align: middle;\n",
       "    }\n",
       "\n",
       "    .dataframe tbody tr th {\n",
       "        vertical-align: top;\n",
       "    }\n",
       "\n",
       "    .dataframe thead th {\n",
       "        text-align: right;\n",
       "    }\n",
       "</style>\n",
       "<table border=\"1\" class=\"dataframe\">\n",
       "  <thead>\n",
       "    <tr style=\"text-align: right;\">\n",
       "      <th></th>\n",
       "      <th>Verified</th>\n",
       "      <th>Ground Truth</th>\n",
       "    </tr>\n",
       "  </thead>\n",
       "  <tbody>\n",
       "    <tr>\n",
       "      <th>Alex_Koji1-Alex_Koji1</th>\n",
       "      <td>true</td>\n",
       "      <td>true</td>\n",
       "    </tr>\n",
       "    <tr>\n",
       "      <th>Ariel_Guerreiro1-Ariel_Guerreiro1</th>\n",
       "      <td>true</td>\n",
       "      <td>true</td>\n",
       "    </tr>\n",
       "    <tr>\n",
       "      <th>Ariel_Guerreiro1-Ariel_Guerreiro2</th>\n",
       "      <td>false</td>\n",
       "      <td>true</td>\n",
       "    </tr>\n",
       "    <tr>\n",
       "      <th>Ariel_Guerreiro2-Ariel_Guerreiro1</th>\n",
       "      <td>false</td>\n",
       "      <td>true</td>\n",
       "    </tr>\n",
       "    <tr>\n",
       "      <th>Ariel_Guerreiro2-Ariel_Guerreiro2</th>\n",
       "      <td>true</td>\n",
       "      <td>true</td>\n",
       "    </tr>\n",
       "    <tr>\n",
       "      <th>...</th>\n",
       "      <td>...</td>\n",
       "      <td>...</td>\n",
       "    </tr>\n",
       "    <tr>\n",
       "      <th>Rodrigo_Fill1-Rodrigo_Fill1</th>\n",
       "      <td>true</td>\n",
       "      <td>true</td>\n",
       "    </tr>\n",
       "    <tr>\n",
       "      <th>Rodrigo_Fill1-Rodrigo_Fill2</th>\n",
       "      <td>false</td>\n",
       "      <td>true</td>\n",
       "    </tr>\n",
       "    <tr>\n",
       "      <th>Rodrigo_Fill2-Rodrigo_Fill1</th>\n",
       "      <td>false</td>\n",
       "      <td>true</td>\n",
       "    </tr>\n",
       "    <tr>\n",
       "      <th>Rodrigo_Fill2-Rodrigo_Fill2</th>\n",
       "      <td>true</td>\n",
       "      <td>true</td>\n",
       "    </tr>\n",
       "    <tr>\n",
       "      <th>Victor_Jinsi1-Victor_Jinsi1</th>\n",
       "      <td>true</td>\n",
       "      <td>true</td>\n",
       "    </tr>\n",
       "  </tbody>\n",
       "</table>\n",
       "<p>80 rows × 2 columns</p>\n",
       "</div>"
      ],
      "text/plain": [
       "                                  Verified Ground Truth\n",
       "Alex_Koji1-Alex_Koji1                 true         true\n",
       "Ariel_Guerreiro1-Ariel_Guerreiro1     true         true\n",
       "Ariel_Guerreiro1-Ariel_Guerreiro2    false         true\n",
       "Ariel_Guerreiro2-Ariel_Guerreiro1    false         true\n",
       "Ariel_Guerreiro2-Ariel_Guerreiro2     true         true\n",
       "...                                    ...          ...\n",
       "Rodrigo_Fill1-Rodrigo_Fill1           true         true\n",
       "Rodrigo_Fill1-Rodrigo_Fill2          false         true\n",
       "Rodrigo_Fill2-Rodrigo_Fill1          false         true\n",
       "Rodrigo_Fill2-Rodrigo_Fill2           true         true\n",
       "Victor_Jinsi1-Victor_Jinsi1           true         true\n",
       "\n",
       "[80 rows x 2 columns]"
      ]
     },
     "execution_count": 19,
     "metadata": {},
     "output_type": "execute_result"
    }
   ],
   "source": [
    "verification.loc[verification['Ground Truth'] == 'true']"
   ]
  },
  {
   "cell_type": "code",
   "execution_count": 20,
   "metadata": {
    "colab": {
     "base_uri": "https://localhost:8080/",
     "height": 424
    },
    "executionInfo": {
     "elapsed": 212206,
     "status": "ok",
     "timestamp": 1609007445725,
     "user": {
      "displayName": "Guilherme Lizarzaburu",
      "photoUrl": "",
      "userId": "03523622916475028622"
     },
     "user_tz": 180
    },
    "id": "3VWkYIVvaeep",
    "outputId": "1e9a5d37-a8cf-4ffb-9649-8f9b28b4c369"
   },
   "outputs": [
    {
     "data": {
      "text/html": [
       "<div>\n",
       "<style scoped>\n",
       "    .dataframe tbody tr th:only-of-type {\n",
       "        vertical-align: middle;\n",
       "    }\n",
       "\n",
       "    .dataframe tbody tr th {\n",
       "        vertical-align: top;\n",
       "    }\n",
       "\n",
       "    .dataframe thead th {\n",
       "        text-align: right;\n",
       "    }\n",
       "</style>\n",
       "<table border=\"1\" class=\"dataframe\">\n",
       "  <thead>\n",
       "    <tr style=\"text-align: right;\">\n",
       "      <th></th>\n",
       "      <th>Verified</th>\n",
       "      <th>Ground Truth</th>\n",
       "    </tr>\n",
       "  </thead>\n",
       "  <tbody>\n",
       "    <tr>\n",
       "      <th>Alex_Koji1-Ariel_Guerreiro1</th>\n",
       "      <td>false</td>\n",
       "      <td>false</td>\n",
       "    </tr>\n",
       "    <tr>\n",
       "      <th>Alex_Koji1-Ariel_Guerreiro2</th>\n",
       "      <td>false</td>\n",
       "      <td>false</td>\n",
       "    </tr>\n",
       "    <tr>\n",
       "      <th>Alex_Koji1-Camila_Fonseca1</th>\n",
       "      <td>false</td>\n",
       "      <td>false</td>\n",
       "    </tr>\n",
       "    <tr>\n",
       "      <th>Alex_Koji1-Camila_Fonseca2</th>\n",
       "      <td>false</td>\n",
       "      <td>false</td>\n",
       "    </tr>\n",
       "    <tr>\n",
       "      <th>Alex_Koji1-Eduardo_Eiras1</th>\n",
       "      <td>false</td>\n",
       "      <td>false</td>\n",
       "    </tr>\n",
       "    <tr>\n",
       "      <th>...</th>\n",
       "      <td>...</td>\n",
       "      <td>...</td>\n",
       "    </tr>\n",
       "    <tr>\n",
       "      <th>Victor_Jinsi1-Noel_Viscome2</th>\n",
       "      <td>false</td>\n",
       "      <td>false</td>\n",
       "    </tr>\n",
       "    <tr>\n",
       "      <th>Victor_Jinsi1-Paulo_Sestini1</th>\n",
       "      <td>false</td>\n",
       "      <td>false</td>\n",
       "    </tr>\n",
       "    <tr>\n",
       "      <th>Victor_Jinsi1-Paulo_Sestini2</th>\n",
       "      <td>false</td>\n",
       "      <td>false</td>\n",
       "    </tr>\n",
       "    <tr>\n",
       "      <th>Victor_Jinsi1-Rodrigo_Fill1</th>\n",
       "      <td>false</td>\n",
       "      <td>false</td>\n",
       "    </tr>\n",
       "    <tr>\n",
       "      <th>Victor_Jinsi1-Rodrigo_Fill2</th>\n",
       "      <td>false</td>\n",
       "      <td>false</td>\n",
       "    </tr>\n",
       "  </tbody>\n",
       "</table>\n",
       "<p>944 rows × 2 columns</p>\n",
       "</div>"
      ],
      "text/plain": [
       "                             Verified Ground Truth\n",
       "Alex_Koji1-Ariel_Guerreiro1     false        false\n",
       "Alex_Koji1-Ariel_Guerreiro2     false        false\n",
       "Alex_Koji1-Camila_Fonseca1      false        false\n",
       "Alex_Koji1-Camila_Fonseca2      false        false\n",
       "Alex_Koji1-Eduardo_Eiras1       false        false\n",
       "...                               ...          ...\n",
       "Victor_Jinsi1-Noel_Viscome2     false        false\n",
       "Victor_Jinsi1-Paulo_Sestini1    false        false\n",
       "Victor_Jinsi1-Paulo_Sestini2    false        false\n",
       "Victor_Jinsi1-Rodrigo_Fill1     false        false\n",
       "Victor_Jinsi1-Rodrigo_Fill2     false        false\n",
       "\n",
       "[944 rows x 2 columns]"
      ]
     },
     "execution_count": 20,
     "metadata": {},
     "output_type": "execute_result"
    }
   ],
   "source": [
    "verification.loc[verification['Ground Truth'] == 'false']"
   ]
  },
  {
   "cell_type": "code",
   "execution_count": 21,
   "metadata": {
    "executionInfo": {
     "elapsed": 212755,
     "status": "ok",
     "timestamp": 1609007446276,
     "user": {
      "displayName": "Guilherme Lizarzaburu",
      "photoUrl": "",
      "userId": "03523622916475028622"
     },
     "user_tz": 180
    },
    "id": "U4PBAq5zZjWh"
   },
   "outputs": [],
   "source": [
    "verification.to_pickle('verification.pkl', protocol=4)"
   ]
  },
  {
   "cell_type": "markdown",
   "metadata": {
    "executionInfo": {
     "elapsed": 754,
     "status": "ok",
     "timestamp": 1609009532668,
     "user": {
      "displayName": "Guilherme Lizarzaburu",
      "photoUrl": "",
      "userId": "03523622916475028622"
     },
     "user_tz": 180
    },
    "id": "8jgP5lt2bhIz"
   },
   "source": [
    "import pandas as pd\n",
    "\n",
    "verification = pd.read_pickle('verification.pkl')"
   ]
  },
  {
   "cell_type": "code",
   "execution_count": 22,
   "metadata": {
    "executionInfo": {
     "elapsed": 1352,
     "status": "ok",
     "timestamp": 1609009541153,
     "user": {
      "displayName": "Guilherme Lizarzaburu",
      "photoUrl": "",
      "userId": "03523622916475028622"
     },
     "user_tz": 180
    },
    "id": "-GeSiS4HbLvI"
   },
   "outputs": [],
   "source": [
    "f1 = f1_calculation(verification)"
   ]
  },
  {
   "cell_type": "code",
   "execution_count": 23,
   "metadata": {
    "colab": {
     "base_uri": "https://localhost:8080/",
     "height": 81
    },
    "executionInfo": {
     "elapsed": 709,
     "status": "ok",
     "timestamp": 1609009545854,
     "user": {
      "displayName": "Guilherme Lizarzaburu",
      "photoUrl": "",
      "userId": "03523622916475028622"
     },
     "user_tz": 180
    },
    "id": "jdKMzJ3XbLel",
    "outputId": "fac1bc8c-a87a-4393-8287-85e7c54959cc"
   },
   "outputs": [
    {
     "data": {
      "text/html": [
       "<div>\n",
       "<style scoped>\n",
       "    .dataframe tbody tr th:only-of-type {\n",
       "        vertical-align: middle;\n",
       "    }\n",
       "\n",
       "    .dataframe tbody tr th {\n",
       "        vertical-align: top;\n",
       "    }\n",
       "\n",
       "    .dataframe thead th {\n",
       "        text-align: right;\n",
       "    }\n",
       "</style>\n",
       "<table border=\"1\" class=\"dataframe\">\n",
       "  <thead>\n",
       "    <tr style=\"text-align: right;\">\n",
       "      <th></th>\n",
       "      <th>Accuracy</th>\n",
       "      <th>Recall</th>\n",
       "      <th>Precision</th>\n",
       "      <th>F1</th>\n",
       "    </tr>\n",
       "  </thead>\n",
       "  <tbody>\n",
       "    <tr>\n",
       "      <th>Results:</th>\n",
       "      <td>0.964844</td>\n",
       "      <td>0.963265</td>\n",
       "      <td>1.0</td>\n",
       "      <td>0.981289</td>\n",
       "    </tr>\n",
       "  </tbody>\n",
       "</table>\n",
       "</div>"
      ],
      "text/plain": [
       "          Accuracy    Recall  Precision        F1\n",
       "Results:  0.964844  0.963265        1.0  0.981289"
      ]
     },
     "execution_count": 23,
     "metadata": {},
     "output_type": "execute_result"
    }
   ],
   "source": [
    "f1"
   ]
  },
  {
   "cell_type": "code",
   "execution_count": null,
   "metadata": {},
   "outputs": [],
   "source": []
  }
 ],
 "metadata": {
  "accelerator": "GPU",
  "colab": {
   "authorship_tag": "ABX9TyPBSzEPIp7gTRbH14iCTteg",
   "collapsed_sections": [],
   "mount_file_id": "1HCwyCGS5CtAjyPm2ayNEuixbLgUEnGTz",
   "name": "deepface_method.ipynb",
   "provenance": []
  },
  "kernelspec": {
   "display_name": "Python 3",
   "language": "python",
   "name": "python3"
  },
  "language_info": {
   "codemirror_mode": {
    "name": "ipython",
    "version": 3
   },
   "file_extension": ".py",
   "mimetype": "text/x-python",
   "name": "python",
   "nbconvert_exporter": "python",
   "pygments_lexer": "ipython3",
   "version": "3.8.0"
  }
 },
 "nbformat": 4,
 "nbformat_minor": 1
}
