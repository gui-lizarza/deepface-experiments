{
 "cells": [
  {
   "cell_type": "code",
   "execution_count": 1,
   "metadata": {
    "executionInfo": {
     "elapsed": 544,
     "status": "ok",
     "timestamp": 1609009517549,
     "user": {
      "displayName": "Guilherme Lizarzaburu",
      "photoUrl": "",
      "userId": "03523622916475028622"
     },
     "user_tz": 180
    },
    "id": "1pr0Xj3qwa4d",
    "scrolled": true
   },
   "outputs": [],
   "source": [
    "import os \n",
    "os.getcwd()"
   ]
  },
  {
   "cell_type": "code",
   "execution_count": 2,
   "metadata": {
    "colab": {
     "base_uri": "https://localhost:8080/"
    },
    "executionInfo": {
     "elapsed": 5400,
     "status": "ok",
     "timestamp": 1609009524939,
     "user": {
      "displayName": "Guilherme Lizarzaburu",
      "photoUrl": "",
      "userId": "03523622916475028622"
     },
     "user_tz": 180
    },
    "id": "W_c9siqlwreT",
    "outputId": "ec9455fe-e058-4dae-d7bf-1b71d0a7081b"
   },
   "outputs": [],
   "source": [
    "from deepface_functions import make_dict, representation_dataframe, metrics_dataframe, verification_dataframe, f1_calculation"
   ]
  },
  {
   "cell_type": "code",
   "execution_count": null,
   "metadata": {
    "executionInfo": {
     "elapsed": 923,
     "status": "ok",
     "timestamp": 1609010976290,
     "user": {
      "displayName": "Guilherme Lizarzaburu",
      "photoUrl": "",
      "userId": "03523622916475028622"
     },
     "user_tz": 180
    },
    "id": "E2edEWE6xRR7"
   },
   "outputs": [],
   "source": [
    "dic = make_dict('General_Faces')"
   ]
  },
  {
   "cell_type": "code",
   "execution_count": 4,
   "metadata": {
    "colab": {
     "base_uri": "https://localhost:8080/"
    },
    "executionInfo": {
     "elapsed": 5171,
     "status": "ok",
     "timestamp": 1609007238630,
     "user": {
      "displayName": "Guilherme Lizarzaburu",
      "photoUrl": "",
      "userId": "03523622916475028622"
     },
     "user_tz": 180
    },
    "id": "WZt2xZ9V7hp9",
    "outputId": "31fd5e37-6662-420e-bd8b-144dd8117843"
   },
   "outputs": [
    {
     "data": {
      "text/plain": [
       "{'Abdoulaye_Wade1': 'General_Faces\\\\Abdoulaye_Wade\\\\Abdoulaye_Wade1.jpg',\n",
       " 'Abdoulaye_Wade2': 'General_Faces\\\\Abdoulaye_Wade\\\\Abdoulaye_Wade2.jpg',\n",
       " 'Abdoulaye_Wade3': 'General_Faces\\\\Abdoulaye_Wade\\\\Abdoulaye_Wade3.jpg',\n",
       " 'Abdoulaye_Wade4': 'General_Faces\\\\Abdoulaye_Wade\\\\Abdoulaye_Wade4.jpg',\n",
       " 'Alex_Koji1': 'General_Faces\\\\Alex_Koji\\\\Alex_Koji1.jpg',\n",
       " 'Ariel_Guerreiro1': 'General_Faces\\\\Ariel_Guerreiro\\\\Ariel_Guerreiro1.jpg',\n",
       " 'Ariel_Guerreiro2': 'General_Faces\\\\Ariel_Guerreiro\\\\Ariel_Guerreiro2.jpg',\n",
       " 'Barbra_Streisand1': 'General_Faces\\\\Barbra_Streisand\\\\Barbra_Streisand1.jpg',\n",
       " 'Barbra_Streisand2': 'General_Faces\\\\Barbra_Streisand\\\\Barbra_Streisand2.jpg',\n",
       " 'Barbra_Streisand3': 'General_Faces\\\\Barbra_Streisand\\\\Barbra_Streisand3.jpg',\n",
       " 'Camila_Fonseca1': 'General_Faces\\\\Camila_Fonseca\\\\Camila_Fonseca1.jpg',\n",
       " 'Camila_Fonseca2': 'General_Faces\\\\Camila_Fonseca\\\\Camila_Fonseca2.jpg',\n",
       " 'Carlo_Ancelotti1': 'General_Faces\\\\Carlo_Ancelotti\\\\Carlo_Ancelotti1.jpg',\n",
       " 'Carlo_Ancelotti2': 'General_Faces\\\\Carlo_Ancelotti\\\\Carlo_Ancelotti2.jpg',\n",
       " 'Carlo_Ancelotti3': 'General_Faces\\\\Carlo_Ancelotti\\\\Carlo_Ancelotti3.jpg',\n",
       " 'Coretta_Scott_King1': 'General_Faces\\\\Coretta_Scott_King\\\\Coretta_Scott_King1.jpg',\n",
       " 'Coretta_Scott_King2': 'General_Faces\\\\Coretta_Scott_King\\\\Coretta_Scott_King2.jpg',\n",
       " 'Coretta_Scott_King3': 'General_Faces\\\\Coretta_Scott_King\\\\Coretta_Scott_King3.jpg',\n",
       " 'David_Beckham1': 'General_Faces\\\\David_Beckham\\\\David_Beckham1.jpg',\n",
       " 'David_Beckham2': 'General_Faces\\\\David_Beckham\\\\David_Beckham2.jpg',\n",
       " 'David_Beckham3': 'General_Faces\\\\David_Beckham\\\\David_Beckham3.jpg',\n",
       " 'Dick_Cheney1': 'General_Faces\\\\Dick_Cheney\\\\Dick_Cheney1.jpg',\n",
       " 'Dick_Cheney2': 'General_Faces\\\\Dick_Cheney\\\\Dick_Cheney2.jpg',\n",
       " 'Dick_Cheney3': 'General_Faces\\\\Dick_Cheney\\\\Dick_Cheney3.jpg',\n",
       " 'Dick_Cheney4': 'General_Faces\\\\Dick_Cheney\\\\Dick_Cheney4.jpg',\n",
       " 'Dick_Cheney5': 'General_Faces\\\\Dick_Cheney\\\\Dick_Cheney5.jpg',\n",
       " 'Dick_Cheney6': 'General_Faces\\\\Dick_Cheney\\\\Dick_Cheney6.jpg',\n",
       " 'Eduardo_Eiras1': 'General_Faces\\\\Eduardo_Eiras\\\\Eduardo_Eiras1.jpg',\n",
       " 'Eduardo_Eiras2': 'General_Faces\\\\Eduardo_Eiras\\\\Eduardo_Eiras2.jpg',\n",
       " 'Eduardo_Eiras3': 'General_Faces\\\\Eduardo_Eiras\\\\Eduardo_Eiras3.jpg',\n",
       " 'Eduardo_Eiras4': 'General_Faces\\\\Eduardo_Eiras\\\\Eduardo_Eiras4.jpg',\n",
       " 'Eduardo_Eiras5': 'General_Faces\\\\Eduardo_Eiras\\\\Eduardo_Eiras5.jpg',\n",
       " 'Enzo_Bustos1': 'General_Faces\\\\Enzo_Bustos\\\\Enzo_Bustos1.jpg',\n",
       " 'Enzo_Bustos2': 'General_Faces\\\\Enzo_Bustos\\\\Enzo_Bustos2.jpg',\n",
       " 'Felipe_Azank1': 'General_Faces\\\\Felipe_Azank\\\\Felipe_Azank1.jpg',\n",
       " 'Felipe_Azank2': 'General_Faces\\\\Felipe_Azank\\\\Felipe_Azank2.jpg',\n",
       " 'Felipe_Azank3': 'General_Faces\\\\Felipe_Azank\\\\Felipe_Azank3.jpg',\n",
       " 'Garry_Kasparov1': 'General_Faces\\\\Garry_Kasparov\\\\Garry_Kasparov1.jpg',\n",
       " 'Garry_Kasparov2': 'General_Faces\\\\Garry_Kasparov\\\\Garry_Kasparov2.jpg',\n",
       " 'Guilherme_Cola1': 'General_Faces\\\\Guilherme_Cola\\\\Guilherme_Cola1.jpg',\n",
       " 'Guilherme_Cola2': 'General_Faces\\\\Guilherme_Cola\\\\Guilherme_Cola2.jpg',\n",
       " 'Guilherme_Goncalves1': 'General_Faces\\\\Guilherme_Goncalves\\\\Guilherme_Goncalves1.jpg',\n",
       " 'Guilherme_Goncalves2': 'General_Faces\\\\Guilherme_Goncalves\\\\Guilherme_Goncalves2.jpg',\n",
       " 'Henrique_Meirelles1': 'General_Faces\\\\Henrique_Meirelles\\\\Henrique_Meirelles1.jpg',\n",
       " 'Henrique_Meirelles2': 'General_Faces\\\\Henrique_Meirelles\\\\Henrique_Meirelles2.jpg',\n",
       " 'Hugo_Chavez1': 'General_Faces\\\\Hugo_Chavez\\\\Hugo_Chavez1.jpg',\n",
       " 'Hugo_Chavez2': 'General_Faces\\\\Hugo_Chavez\\\\Hugo_Chavez2.jpg',\n",
       " 'Hugo_Chavez3': 'General_Faces\\\\Hugo_Chavez\\\\Hugo_Chavez3.jpg',\n",
       " 'Hugo_Chavez4': 'General_Faces\\\\Hugo_Chavez\\\\Hugo_Chavez4.jpg',\n",
       " 'Hugo_Chavez5': 'General_Faces\\\\Hugo_Chavez\\\\Hugo_Chavez5.jpg',\n",
       " 'Leonardo_Murakami1': 'General_Faces\\\\Leonardo_Murakami\\\\Leonardo_Murakami1.jpg',\n",
       " 'Leonardo_Murakami2': 'General_Faces\\\\Leonardo_Murakami\\\\Leonardo_Murakami2.jpg',\n",
       " 'Luisa_Heise1': 'General_Faces\\\\Luisa_Heise\\\\Luisa_Heise1.jpg',\n",
       " 'Luisa_Heise2': 'General_Faces\\\\Luisa_Heise\\\\Luisa_Heise2.jpg',\n",
       " 'Nelson_Alves1': 'General_Faces\\\\Nelson_Alves\\\\Nelson_Alves1.jpg',\n",
       " 'Nelson_Alves2': 'General_Faces\\\\Nelson_Alves\\\\Nelson_Alves2.jpg',\n",
       " 'Noel_Viscome1': 'General_Faces\\\\Noel_Viscome\\\\Noel_Viscome1.jpg',\n",
       " 'Noel_Viscome2': 'General_Faces\\\\Noel_Viscome\\\\Noel_Viscome2.jpg',\n",
       " 'Paulo_Sestini1': 'General_Faces\\\\Paulo_Sestini\\\\Paulo_Sestini1.jpg',\n",
       " 'Paulo_Sestini2': 'General_Faces\\\\Paulo_Sestini\\\\Paulo_Sestini2.jpg',\n",
       " 'Rodrigo_Fill1': 'General_Faces\\\\Rodrigo_Fill\\\\Rodrigo_Fill1.jpg',\n",
       " 'Rodrigo_Fill2': 'General_Faces\\\\Rodrigo_Fill\\\\Rodrigo_Fill2.jpg',\n",
       " 'Victor_Jinsi1': 'General_Faces\\\\Victor_Jinsi\\\\Victor_Jinsi1.jpg'}"
      ]
     },
     "execution_count": 4,
     "metadata": {},
     "output_type": "execute_result"
    }
   ],
   "source": [
    "dic"
   ]
  },
  {
   "cell_type": "code",
   "execution_count": 5,
   "metadata": {
    "colab": {
     "base_uri": "https://localhost:8080/"
    },
    "executionInfo": {
     "elapsed": 207449,
     "status": "ok",
     "timestamp": 1609007440912,
     "user": {
      "displayName": "Guilherme Lizarzaburu",
      "photoUrl": "",
      "userId": "03523622916475028622"
     },
     "user_tz": 180
    },
    "id": "EujJ4T9fxkV1",
    "outputId": "c3ac80ed-7162-461b-a889-888b09a61df7"
   },
   "outputs": [
    {
     "name": "stderr",
     "output_type": "stream",
     "text": [
      "Loading VGG-Face...:   0%|                                                                       | 0/4 [00:00<?, ?it/s]"
     ]
    },
    {
     "name": "stdout",
     "output_type": "stream",
     "text": [
      "Ensemble learning enabled\n"
     ]
    },
    {
     "name": "stderr",
     "output_type": "stream",
     "text": [
      "Loading Facebook DeepFace...: 100%|██████████████████████████████████████████████████████| 4/4 [00:28<00:00,  7.21s/it]\n",
      "Avaliando Hash:   0%|                                                                           | 0/63 [00:00<?, ?it/s]"
     ]
    },
    {
     "name": "stdout",
     "output_type": "stream",
     "text": [
      "WARNING:tensorflow:5 out of the last 11 calls to <function Model.make_predict_function.<locals>.predict_function at 0x000001F1E405A310> triggered tf.function retracing. Tracing is expensive and the excessive number of tracings could be due to (1) creating @tf.function repeatedly in a loop, (2) passing tensors with different shapes, (3) passing Python objects instead of tensors. For (1), please define your @tf.function outside of the loop. For (2), @tf.function has experimental_relax_shapes=True option that relaxes argument shapes that can avoid unnecessary retracing. For (3), please refer to https://www.tensorflow.org/tutorials/customization/performance#python_or_tensor_args and https://www.tensorflow.org/api_docs/python/tf/function for  more details.\n"
     ]
    },
    {
     "name": "stderr",
     "output_type": "stream",
     "text": [
      "Avaliando Hash: 100%|██████████████████████████████████████████████████████████████████| 63/63 [06:17<00:00,  6.00s/it]\n"
     ]
    }
   ],
   "source": [
    "import time\n",
    "\n",
    "tic = time.time()\n",
    "hash_df = representation_dataframe(dic)\n",
    "#hash_df = representation_dataframe(dic, model_name='FaceNet')\n",
    "toc = time.time()"
   ]
  },
  {
   "cell_type": "code",
   "execution_count": 6,
   "metadata": {
    "colab": {
     "base_uri": "https://localhost:8080/"
    },
    "executionInfo": {
     "elapsed": 207446,
     "status": "ok",
     "timestamp": 1609007440914,
     "user": {
      "displayName": "Guilherme Lizarzaburu",
      "photoUrl": "",
      "userId": "03523622916475028622"
     },
     "user_tz": 180
    },
    "id": "-wKpLNPESU_2",
    "outputId": "101ce619-4d05-4c06-fa2e-d76166dc4c40",
    "scrolled": true
   },
   "outputs": [
    {
     "name": "stdout",
     "output_type": "stream",
     "text": [
      "Tempo de avaliação do hash: 406.63530564308167 segundos\n"
     ]
    }
   ],
   "source": [
    "print('Tempo de avaliação do hash: {} segundos'.format(toc-tic))"
   ]
  },
  {
   "cell_type": "code",
   "execution_count": 7,
   "metadata": {
    "colab": {
     "base_uri": "https://localhost:8080/",
     "height": 1000
    },
    "executionInfo": {
     "elapsed": 207444,
     "status": "ok",
     "timestamp": 1609007440917,
     "user": {
      "displayName": "Guilherme Lizarzaburu",
      "photoUrl": "",
      "userId": "03523622916475028622"
     },
     "user_tz": 180
    },
    "id": "SY0etWbyxohQ",
    "outputId": "d91c05c7-fef6-40c8-8adf-163dc65c9d9d"
   },
   "outputs": [
    {
     "data": {
      "text/html": [
       "<div>\n",
       "<style scoped>\n",
       "    .dataframe tbody tr th:only-of-type {\n",
       "        vertical-align: middle;\n",
       "    }\n",
       "\n",
       "    .dataframe tbody tr th {\n",
       "        vertical-align: top;\n",
       "    }\n",
       "\n",
       "    .dataframe thead th {\n",
       "        text-align: right;\n",
       "    }\n",
       "</style>\n",
       "<table border=\"1\" class=\"dataframe\">\n",
       "  <thead>\n",
       "    <tr style=\"text-align: right;\">\n",
       "      <th></th>\n",
       "      <th>VGG-Face</th>\n",
       "      <th>FaceNet</th>\n",
       "      <th>OpenFace</th>\n",
       "      <th>DeepFace</th>\n",
       "    </tr>\n",
       "  </thead>\n",
       "  <tbody>\n",
       "    <tr>\n",
       "      <th>Abdoulaye_Wade1</th>\n",
       "      <td>[0.031622384, 0.013142382, 0.0027191923, 0.015...</td>\n",
       "      <td>[0.28924972, 0.39235228, 1.0221549, -0.8225711...</td>\n",
       "      <td>[0.10406031, -0.024366822, -0.04628782, -0.020...</td>\n",
       "      <td>[0.0, 0.0, 0.0, 0.0, 1.3813229, 0.0, 1.1442523...</td>\n",
       "    </tr>\n",
       "    <tr>\n",
       "      <th>Abdoulaye_Wade2</th>\n",
       "      <td>[0.02181824, -0.00047738408, 0.0021328938, 0.0...</td>\n",
       "      <td>[0.34955138, 1.2856652, 0.82395434, -0.9189634...</td>\n",
       "      <td>[-0.027138967, 0.058782905, 0.07716572, 0.1118...</td>\n",
       "      <td>[0.0, 0.0, 0.0, 0.0, 1.8005255, 0.0, 0.9489289...</td>\n",
       "    </tr>\n",
       "    <tr>\n",
       "      <th>Abdoulaye_Wade3</th>\n",
       "      <td>[0.011375517, 0.0064281193, -0.0030702366, 0.0...</td>\n",
       "      <td>[-0.2850994, -0.43497184, -0.45976207, -0.4015...</td>\n",
       "      <td>[0.12708032, 0.006684294, -0.07676536, -0.0036...</td>\n",
       "      <td>[0.0, 0.0, 0.0, 0.0, 1.7756345, 0.0, 1.092303,...</td>\n",
       "    </tr>\n",
       "    <tr>\n",
       "      <th>Abdoulaye_Wade4</th>\n",
       "      <td>[0.023892822, -0.002692903, -0.003332648, 0.00...</td>\n",
       "      <td>[0.12916644, 0.5595838, 1.4423934, -1.5153949,...</td>\n",
       "      <td>[0.08577331, -0.055957004, 0.026031945, -0.006...</td>\n",
       "      <td>[0.0, 0.0, 0.0, 0.0, 1.2525636, 0.1822725, 0.5...</td>\n",
       "    </tr>\n",
       "    <tr>\n",
       "      <th>Alex_Koji1</th>\n",
       "      <td>[0.0086392155, 0.017736208, 0.006636068, 0.001...</td>\n",
       "      <td>[-0.010640465, -0.21966511, -1.9103987, 0.2429...</td>\n",
       "      <td>[0.0067644124, 0.14005405, 0.05653928, 0.17787...</td>\n",
       "      <td>[0.0, 0.0, 0.0, 0.0, 0.0, 0.0, 4.930891, 0.0, ...</td>\n",
       "    </tr>\n",
       "    <tr>\n",
       "      <th>...</th>\n",
       "      <td>...</td>\n",
       "      <td>...</td>\n",
       "      <td>...</td>\n",
       "      <td>...</td>\n",
       "    </tr>\n",
       "    <tr>\n",
       "      <th>Paulo_Sestini1</th>\n",
       "      <td>[0.013840012, 0.0027538503, 0.0021925978, 0.00...</td>\n",
       "      <td>[-1.1776822, -0.041157436, -1.3202903, 0.59014...</td>\n",
       "      <td>[-0.0661703, -0.03275328, 0.0188687, -0.089661...</td>\n",
       "      <td>[0.0, 0.0, 0.12455863, 0.0, 0.7140921, 0.0, 5....</td>\n",
       "    </tr>\n",
       "    <tr>\n",
       "      <th>Paulo_Sestini2</th>\n",
       "      <td>[0.011659819, -0.003536787, -0.002077495, 0.00...</td>\n",
       "      <td>[-0.7961041, 0.118540704, -0.14080559, 2.39423...</td>\n",
       "      <td>[-0.035755716, 0.03881209, 0.068120174, 0.0209...</td>\n",
       "      <td>[0.0, 0.0, 0.0, 0.0, 0.15335402, 0.0, 5.452480...</td>\n",
       "    </tr>\n",
       "    <tr>\n",
       "      <th>Rodrigo_Fill1</th>\n",
       "      <td>[0.0077494113, -0.007495925, -0.0031368476, 0....</td>\n",
       "      <td>[-0.028325766, -0.71689034, 0.097174995, 0.644...</td>\n",
       "      <td>[0.08066716, -0.055181947, -0.041736387, 0.056...</td>\n",
       "      <td>[0.0, 0.0, 0.0, 0.0, 1.1816285, 1.7671392, 0.0...</td>\n",
       "    </tr>\n",
       "    <tr>\n",
       "      <th>Rodrigo_Fill2</th>\n",
       "      <td>[0.009312408, -0.0079911165, 0.0056018755, 0.0...</td>\n",
       "      <td>[0.57570124, 1.2647054, -2.0973516, 1.0104682,...</td>\n",
       "      <td>[0.0043955385, 0.032516703, -0.07374682, 0.001...</td>\n",
       "      <td>[0.0, 0.0, 0.7413303, 0.6801828, 2.153543, 3.5...</td>\n",
       "    </tr>\n",
       "    <tr>\n",
       "      <th>Victor_Jinsi1</th>\n",
       "      <td>[0.020186154, 0.0066049104, 0.0011170101, 0.01...</td>\n",
       "      <td>[0.52715945, 0.9560536, -0.14390567, 1.4402187...</td>\n",
       "      <td>[-0.060513273, 0.107021354, -0.010960272, 0.04...</td>\n",
       "      <td>[0.0, 0.0, 0.0, 0.0, 1.765983, 0.0, 2.1570864,...</td>\n",
       "    </tr>\n",
       "  </tbody>\n",
       "</table>\n",
       "<p>63 rows × 4 columns</p>\n",
       "</div>"
      ],
      "text/plain": [
       "                                                          VGG-Face  \\\n",
       "Abdoulaye_Wade1  [0.031622384, 0.013142382, 0.0027191923, 0.015...   \n",
       "Abdoulaye_Wade2  [0.02181824, -0.00047738408, 0.0021328938, 0.0...   \n",
       "Abdoulaye_Wade3  [0.011375517, 0.0064281193, -0.0030702366, 0.0...   \n",
       "Abdoulaye_Wade4  [0.023892822, -0.002692903, -0.003332648, 0.00...   \n",
       "Alex_Koji1       [0.0086392155, 0.017736208, 0.006636068, 0.001...   \n",
       "...                                                            ...   \n",
       "Paulo_Sestini1   [0.013840012, 0.0027538503, 0.0021925978, 0.00...   \n",
       "Paulo_Sestini2   [0.011659819, -0.003536787, -0.002077495, 0.00...   \n",
       "Rodrigo_Fill1    [0.0077494113, -0.007495925, -0.0031368476, 0....   \n",
       "Rodrigo_Fill2    [0.009312408, -0.0079911165, 0.0056018755, 0.0...   \n",
       "Victor_Jinsi1    [0.020186154, 0.0066049104, 0.0011170101, 0.01...   \n",
       "\n",
       "                                                           FaceNet  \\\n",
       "Abdoulaye_Wade1  [0.28924972, 0.39235228, 1.0221549, -0.8225711...   \n",
       "Abdoulaye_Wade2  [0.34955138, 1.2856652, 0.82395434, -0.9189634...   \n",
       "Abdoulaye_Wade3  [-0.2850994, -0.43497184, -0.45976207, -0.4015...   \n",
       "Abdoulaye_Wade4  [0.12916644, 0.5595838, 1.4423934, -1.5153949,...   \n",
       "Alex_Koji1       [-0.010640465, -0.21966511, -1.9103987, 0.2429...   \n",
       "...                                                            ...   \n",
       "Paulo_Sestini1   [-1.1776822, -0.041157436, -1.3202903, 0.59014...   \n",
       "Paulo_Sestini2   [-0.7961041, 0.118540704, -0.14080559, 2.39423...   \n",
       "Rodrigo_Fill1    [-0.028325766, -0.71689034, 0.097174995, 0.644...   \n",
       "Rodrigo_Fill2    [0.57570124, 1.2647054, -2.0973516, 1.0104682,...   \n",
       "Victor_Jinsi1    [0.52715945, 0.9560536, -0.14390567, 1.4402187...   \n",
       "\n",
       "                                                          OpenFace  \\\n",
       "Abdoulaye_Wade1  [0.10406031, -0.024366822, -0.04628782, -0.020...   \n",
       "Abdoulaye_Wade2  [-0.027138967, 0.058782905, 0.07716572, 0.1118...   \n",
       "Abdoulaye_Wade3  [0.12708032, 0.006684294, -0.07676536, -0.0036...   \n",
       "Abdoulaye_Wade4  [0.08577331, -0.055957004, 0.026031945, -0.006...   \n",
       "Alex_Koji1       [0.0067644124, 0.14005405, 0.05653928, 0.17787...   \n",
       "...                                                            ...   \n",
       "Paulo_Sestini1   [-0.0661703, -0.03275328, 0.0188687, -0.089661...   \n",
       "Paulo_Sestini2   [-0.035755716, 0.03881209, 0.068120174, 0.0209...   \n",
       "Rodrigo_Fill1    [0.08066716, -0.055181947, -0.041736387, 0.056...   \n",
       "Rodrigo_Fill2    [0.0043955385, 0.032516703, -0.07374682, 0.001...   \n",
       "Victor_Jinsi1    [-0.060513273, 0.107021354, -0.010960272, 0.04...   \n",
       "\n",
       "                                                          DeepFace  \n",
       "Abdoulaye_Wade1  [0.0, 0.0, 0.0, 0.0, 1.3813229, 0.0, 1.1442523...  \n",
       "Abdoulaye_Wade2  [0.0, 0.0, 0.0, 0.0, 1.8005255, 0.0, 0.9489289...  \n",
       "Abdoulaye_Wade3  [0.0, 0.0, 0.0, 0.0, 1.7756345, 0.0, 1.092303,...  \n",
       "Abdoulaye_Wade4  [0.0, 0.0, 0.0, 0.0, 1.2525636, 0.1822725, 0.5...  \n",
       "Alex_Koji1       [0.0, 0.0, 0.0, 0.0, 0.0, 0.0, 4.930891, 0.0, ...  \n",
       "...                                                            ...  \n",
       "Paulo_Sestini1   [0.0, 0.0, 0.12455863, 0.0, 0.7140921, 0.0, 5....  \n",
       "Paulo_Sestini2   [0.0, 0.0, 0.0, 0.0, 0.15335402, 0.0, 5.452480...  \n",
       "Rodrigo_Fill1    [0.0, 0.0, 0.0, 0.0, 1.1816285, 1.7671392, 0.0...  \n",
       "Rodrigo_Fill2    [0.0, 0.0, 0.7413303, 0.6801828, 2.153543, 3.5...  \n",
       "Victor_Jinsi1    [0.0, 0.0, 0.0, 0.0, 1.765983, 0.0, 2.1570864,...  \n",
       "\n",
       "[63 rows x 4 columns]"
      ]
     },
     "execution_count": 7,
     "metadata": {},
     "output_type": "execute_result"
    }
   ],
   "source": [
    "hash_df"
   ]
  },
  {
   "cell_type": "code",
   "execution_count": 8,
   "metadata": {
    "executionInfo": {
     "elapsed": 207441,
     "status": "ok",
     "timestamp": 1609007440918,
     "user": {
      "displayName": "Guilherme Lizarzaburu",
      "photoUrl": "",
      "userId": "03523622916475028622"
     },
     "user_tz": 180
    },
    "id": "ld60vWVKwSLg"
   },
   "outputs": [],
   "source": [
    "hash_df.to_pickle('hash_df.pkl', protocol=4)"
   ]
  },
  {
   "cell_type": "code",
   "execution_count": 9,
   "metadata": {},
   "outputs": [],
   "source": [
    "import pandas as pd\n",
    "hash_df = pd.read_pickle('hash_df.pkl')"
   ]
  },
  {
   "cell_type": "code",
   "execution_count": 10,
   "metadata": {
    "colab": {
     "base_uri": "https://localhost:8080/"
    },
    "executionInfo": {
     "elapsed": 207735,
     "status": "ok",
     "timestamp": 1609007441217,
     "user": {
      "displayName": "Guilherme Lizarzaburu",
      "photoUrl": "",
      "userId": "03523622916475028622"
     },
     "user_tz": 180
    },
    "id": "X8ZfCFtswb8f",
    "outputId": "1bae91e1-1aef-41a5-f940-4f776d7c67ba",
    "scrolled": true
   },
   "outputs": [
    {
     "name": "stderr",
     "output_type": "stream",
     "text": [
      "Avaliando a primeira pessoa em relação a todas as outras.: 100%|█████████████████████| 62/62 [00:00<00:00, 1412.89it/s]\n"
     ]
    }
   ],
   "source": [
    "metrics_one = metrics_dataframe(hash_df, chosen_metric='Cosine', one_compair=True)"
   ]
  },
  {
   "cell_type": "code",
   "execution_count": 11,
   "metadata": {
    "colab": {
     "base_uri": "https://localhost:8080/",
     "height": 1000
    },
    "executionInfo": {
     "elapsed": 207730,
     "status": "ok",
     "timestamp": 1609007441218,
     "user": {
      "displayName": "Guilherme Lizarzaburu",
      "photoUrl": "",
      "userId": "03523622916475028622"
     },
     "user_tz": 180
    },
    "id": "kLJTien5wbmh",
    "outputId": "eb3c1076-37e0-452a-f70c-fa63437eae32"
   },
   "outputs": [
    {
     "data": {
      "text/html": [
       "<div>\n",
       "<style scoped>\n",
       "    .dataframe tbody tr th:only-of-type {\n",
       "        vertical-align: middle;\n",
       "    }\n",
       "\n",
       "    .dataframe tbody tr th {\n",
       "        vertical-align: top;\n",
       "    }\n",
       "\n",
       "    .dataframe thead th {\n",
       "        text-align: right;\n",
       "    }\n",
       "</style>\n",
       "<table border=\"1\" class=\"dataframe\">\n",
       "  <thead>\n",
       "    <tr style=\"text-align: right;\">\n",
       "      <th></th>\n",
       "      <th>Cosine with VGG-Face</th>\n",
       "      <th>Euclidean with VGG-Face</th>\n",
       "      <th>L2 with VGG-Face</th>\n",
       "      <th>Cosine with FaceNet</th>\n",
       "      <th>Euclidean with FaceNet</th>\n",
       "      <th>L2 with FaceNet</th>\n",
       "      <th>Cosine with OpenFace</th>\n",
       "      <th>Euclidean with OpenFace</th>\n",
       "      <th>L2 with OpenFace</th>\n",
       "      <th>Cosine with DeepFace</th>\n",
       "      <th>Euclidean with DeepFace</th>\n",
       "      <th>L2 with DeepFace</th>\n",
       "    </tr>\n",
       "  </thead>\n",
       "  <tbody>\n",
       "    <tr>\n",
       "      <th>Abdoulaye_Wade1 - Abdoulaye_Wade2</th>\n",
       "      <td>0.119339</td>\n",
       "      <td>0.294118</td>\n",
       "      <td>0.488548</td>\n",
       "      <td>0.197377</td>\n",
       "      <td>7.1001</td>\n",
       "      <td>0.628294</td>\n",
       "      <td>0.645822</td>\n",
       "      <td>1.13651</td>\n",
       "      <td>1.13651</td>\n",
       "      <td>0.331888</td>\n",
       "      <td>59.1232</td>\n",
       "      <td>0.814725</td>\n",
       "    </tr>\n",
       "    <tr>\n",
       "      <th>Abdoulaye_Wade1 - Abdoulaye_Wade3</th>\n",
       "      <td>0.177232</td>\n",
       "      <td>0.409664</td>\n",
       "      <td>0.595368</td>\n",
       "      <td>0.641381</td>\n",
       "      <td>9.61579</td>\n",
       "      <td>1.13259</td>\n",
       "      <td>0.270732</td>\n",
       "      <td>0.735842</td>\n",
       "      <td>0.735842</td>\n",
       "      <td>0.368616</td>\n",
       "      <td>57.5751</td>\n",
       "      <td>0.858622</td>\n",
       "    </tr>\n",
       "    <tr>\n",
       "      <th>Abdoulaye_Wade1 - Abdoulaye_Wade4</th>\n",
       "      <td>0.105128</td>\n",
       "      <td>0.299486</td>\n",
       "      <td>0.458537</td>\n",
       "      <td>0.179776</td>\n",
       "      <td>6.67786</td>\n",
       "      <td>0.599626</td>\n",
       "      <td>0.319401</td>\n",
       "      <td>0.799251</td>\n",
       "      <td>0.799251</td>\n",
       "      <td>0.412262</td>\n",
       "      <td>61.746</td>\n",
       "      <td>0.908033</td>\n",
       "    </tr>\n",
       "    <tr>\n",
       "      <th>Abdoulaye_Wade1 - Alex_Koji1</th>\n",
       "      <td>0.383852</td>\n",
       "      <td>0.533748</td>\n",
       "      <td>0.876188</td>\n",
       "      <td>0.704072</td>\n",
       "      <td>13.5515</td>\n",
       "      <td>1.18665</td>\n",
       "      <td>0.847297</td>\n",
       "      <td>1.30177</td>\n",
       "      <td>1.30177</td>\n",
       "      <td>0.60184</td>\n",
       "      <td>90.9766</td>\n",
       "      <td>1.09712</td>\n",
       "    </tr>\n",
       "    <tr>\n",
       "      <th>Abdoulaye_Wade1 - Ariel_Guerreiro1</th>\n",
       "      <td>0.688995</td>\n",
       "      <td>0.805108</td>\n",
       "      <td>1.17388</td>\n",
       "      <td>0.856574</td>\n",
       "      <td>15.0211</td>\n",
       "      <td>1.30887</td>\n",
       "      <td>0.675326</td>\n",
       "      <td>1.16218</td>\n",
       "      <td>1.16218</td>\n",
       "      <td>0.524563</td>\n",
       "      <td>74.5911</td>\n",
       "      <td>1.02427</td>\n",
       "    </tr>\n",
       "    <tr>\n",
       "      <th>...</th>\n",
       "      <td>...</td>\n",
       "      <td>...</td>\n",
       "      <td>...</td>\n",
       "      <td>...</td>\n",
       "      <td>...</td>\n",
       "      <td>...</td>\n",
       "      <td>...</td>\n",
       "      <td>...</td>\n",
       "      <td>...</td>\n",
       "      <td>...</td>\n",
       "      <td>...</td>\n",
       "      <td>...</td>\n",
       "    </tr>\n",
       "    <tr>\n",
       "      <th>Abdoulaye_Wade1 - Paulo_Sestini1</th>\n",
       "      <td>0.64731</td>\n",
       "      <td>0.637489</td>\n",
       "      <td>1.13781</td>\n",
       "      <td>0.834402</td>\n",
       "      <td>14.0369</td>\n",
       "      <td>1.29182</td>\n",
       "      <td>0.508369</td>\n",
       "      <td>1.00833</td>\n",
       "      <td>1.00833</td>\n",
       "      <td>0.650674</td>\n",
       "      <td>86.006</td>\n",
       "      <td>1.14077</td>\n",
       "    </tr>\n",
       "    <tr>\n",
       "      <th>Abdoulaye_Wade1 - Paulo_Sestini2</th>\n",
       "      <td>0.652724</td>\n",
       "      <td>0.687635</td>\n",
       "      <td>1.14256</td>\n",
       "      <td>0.902132</td>\n",
       "      <td>14.9143</td>\n",
       "      <td>1.34323</td>\n",
       "      <td>0.719286</td>\n",
       "      <td>1.19941</td>\n",
       "      <td>1.19941</td>\n",
       "      <td>0.592575</td>\n",
       "      <td>85.395</td>\n",
       "      <td>1.08865</td>\n",
       "    </tr>\n",
       "    <tr>\n",
       "      <th>Abdoulaye_Wade1 - Rodrigo_Fill1</th>\n",
       "      <td>0.56052</td>\n",
       "      <td>0.540382</td>\n",
       "      <td>1.05879</td>\n",
       "      <td>1.10246</td>\n",
       "      <td>16.4001</td>\n",
       "      <td>1.4849</td>\n",
       "      <td>0.227901</td>\n",
       "      <td>0.675131</td>\n",
       "      <td>0.675131</td>\n",
       "      <td>0.374601</td>\n",
       "      <td>56.7567</td>\n",
       "      <td>0.865565</td>\n",
       "    </tr>\n",
       "    <tr>\n",
       "      <th>Abdoulaye_Wade1 - Rodrigo_Fill2</th>\n",
       "      <td>0.699497</td>\n",
       "      <td>0.605052</td>\n",
       "      <td>1.18279</td>\n",
       "      <td>1.10962</td>\n",
       "      <td>16.9345</td>\n",
       "      <td>1.48971</td>\n",
       "      <td>0.32247</td>\n",
       "      <td>0.803082</td>\n",
       "      <td>0.803082</td>\n",
       "      <td>0.506088</td>\n",
       "      <td>88.38</td>\n",
       "      <td>1.00607</td>\n",
       "    </tr>\n",
       "    <tr>\n",
       "      <th>Abdoulaye_Wade1 - Victor_Jinsi1</th>\n",
       "      <td>0.611334</td>\n",
       "      <td>0.628399</td>\n",
       "      <td>1.10574</td>\n",
       "      <td>0.863771</td>\n",
       "      <td>15.2153</td>\n",
       "      <td>1.31436</td>\n",
       "      <td>0.605017</td>\n",
       "      <td>1.10002</td>\n",
       "      <td>1.10002</td>\n",
       "      <td>0.572488</td>\n",
       "      <td>80.5009</td>\n",
       "      <td>1.07004</td>\n",
       "    </tr>\n",
       "  </tbody>\n",
       "</table>\n",
       "<p>62 rows × 12 columns</p>\n",
       "</div>"
      ],
      "text/plain": [
       "                                   Cosine with VGG-Face  \\\n",
       "Abdoulaye_Wade1 - Abdoulaye_Wade2              0.119339   \n",
       "Abdoulaye_Wade1 - Abdoulaye_Wade3              0.177232   \n",
       "Abdoulaye_Wade1 - Abdoulaye_Wade4              0.105128   \n",
       "Abdoulaye_Wade1 - Alex_Koji1                   0.383852   \n",
       "Abdoulaye_Wade1 - Ariel_Guerreiro1             0.688995   \n",
       "...                                                 ...   \n",
       "Abdoulaye_Wade1 - Paulo_Sestini1                0.64731   \n",
       "Abdoulaye_Wade1 - Paulo_Sestini2               0.652724   \n",
       "Abdoulaye_Wade1 - Rodrigo_Fill1                 0.56052   \n",
       "Abdoulaye_Wade1 - Rodrigo_Fill2                0.699497   \n",
       "Abdoulaye_Wade1 - Victor_Jinsi1                0.611334   \n",
       "\n",
       "                                   Euclidean with VGG-Face L2 with VGG-Face  \\\n",
       "Abdoulaye_Wade1 - Abdoulaye_Wade2                 0.294118         0.488548   \n",
       "Abdoulaye_Wade1 - Abdoulaye_Wade3                 0.409664         0.595368   \n",
       "Abdoulaye_Wade1 - Abdoulaye_Wade4                 0.299486         0.458537   \n",
       "Abdoulaye_Wade1 - Alex_Koji1                      0.533748         0.876188   \n",
       "Abdoulaye_Wade1 - Ariel_Guerreiro1                0.805108          1.17388   \n",
       "...                                                    ...              ...   \n",
       "Abdoulaye_Wade1 - Paulo_Sestini1                  0.637489          1.13781   \n",
       "Abdoulaye_Wade1 - Paulo_Sestini2                  0.687635          1.14256   \n",
       "Abdoulaye_Wade1 - Rodrigo_Fill1                   0.540382          1.05879   \n",
       "Abdoulaye_Wade1 - Rodrigo_Fill2                   0.605052          1.18279   \n",
       "Abdoulaye_Wade1 - Victor_Jinsi1                   0.628399          1.10574   \n",
       "\n",
       "                                   Cosine with FaceNet Euclidean with FaceNet  \\\n",
       "Abdoulaye_Wade1 - Abdoulaye_Wade2             0.197377                 7.1001   \n",
       "Abdoulaye_Wade1 - Abdoulaye_Wade3             0.641381                9.61579   \n",
       "Abdoulaye_Wade1 - Abdoulaye_Wade4             0.179776                6.67786   \n",
       "Abdoulaye_Wade1 - Alex_Koji1                  0.704072                13.5515   \n",
       "Abdoulaye_Wade1 - Ariel_Guerreiro1            0.856574                15.0211   \n",
       "...                                                ...                    ...   \n",
       "Abdoulaye_Wade1 - Paulo_Sestini1              0.834402                14.0369   \n",
       "Abdoulaye_Wade1 - Paulo_Sestini2              0.902132                14.9143   \n",
       "Abdoulaye_Wade1 - Rodrigo_Fill1                1.10246                16.4001   \n",
       "Abdoulaye_Wade1 - Rodrigo_Fill2                1.10962                16.9345   \n",
       "Abdoulaye_Wade1 - Victor_Jinsi1               0.863771                15.2153   \n",
       "\n",
       "                                   L2 with FaceNet Cosine with OpenFace  \\\n",
       "Abdoulaye_Wade1 - Abdoulaye_Wade2         0.628294             0.645822   \n",
       "Abdoulaye_Wade1 - Abdoulaye_Wade3          1.13259             0.270732   \n",
       "Abdoulaye_Wade1 - Abdoulaye_Wade4         0.599626             0.319401   \n",
       "Abdoulaye_Wade1 - Alex_Koji1               1.18665             0.847297   \n",
       "Abdoulaye_Wade1 - Ariel_Guerreiro1         1.30887             0.675326   \n",
       "...                                            ...                  ...   \n",
       "Abdoulaye_Wade1 - Paulo_Sestini1           1.29182             0.508369   \n",
       "Abdoulaye_Wade1 - Paulo_Sestini2           1.34323             0.719286   \n",
       "Abdoulaye_Wade1 - Rodrigo_Fill1             1.4849             0.227901   \n",
       "Abdoulaye_Wade1 - Rodrigo_Fill2            1.48971              0.32247   \n",
       "Abdoulaye_Wade1 - Victor_Jinsi1            1.31436             0.605017   \n",
       "\n",
       "                                   Euclidean with OpenFace L2 with OpenFace  \\\n",
       "Abdoulaye_Wade1 - Abdoulaye_Wade2                  1.13651          1.13651   \n",
       "Abdoulaye_Wade1 - Abdoulaye_Wade3                 0.735842         0.735842   \n",
       "Abdoulaye_Wade1 - Abdoulaye_Wade4                 0.799251         0.799251   \n",
       "Abdoulaye_Wade1 - Alex_Koji1                       1.30177          1.30177   \n",
       "Abdoulaye_Wade1 - Ariel_Guerreiro1                 1.16218          1.16218   \n",
       "...                                                    ...              ...   \n",
       "Abdoulaye_Wade1 - Paulo_Sestini1                   1.00833          1.00833   \n",
       "Abdoulaye_Wade1 - Paulo_Sestini2                   1.19941          1.19941   \n",
       "Abdoulaye_Wade1 - Rodrigo_Fill1                   0.675131         0.675131   \n",
       "Abdoulaye_Wade1 - Rodrigo_Fill2                   0.803082         0.803082   \n",
       "Abdoulaye_Wade1 - Victor_Jinsi1                    1.10002          1.10002   \n",
       "\n",
       "                                   Cosine with DeepFace  \\\n",
       "Abdoulaye_Wade1 - Abdoulaye_Wade2              0.331888   \n",
       "Abdoulaye_Wade1 - Abdoulaye_Wade3              0.368616   \n",
       "Abdoulaye_Wade1 - Abdoulaye_Wade4              0.412262   \n",
       "Abdoulaye_Wade1 - Alex_Koji1                    0.60184   \n",
       "Abdoulaye_Wade1 - Ariel_Guerreiro1             0.524563   \n",
       "...                                                 ...   \n",
       "Abdoulaye_Wade1 - Paulo_Sestini1               0.650674   \n",
       "Abdoulaye_Wade1 - Paulo_Sestini2               0.592575   \n",
       "Abdoulaye_Wade1 - Rodrigo_Fill1                0.374601   \n",
       "Abdoulaye_Wade1 - Rodrigo_Fill2                0.506088   \n",
       "Abdoulaye_Wade1 - Victor_Jinsi1                0.572488   \n",
       "\n",
       "                                   Euclidean with DeepFace L2 with DeepFace  \n",
       "Abdoulaye_Wade1 - Abdoulaye_Wade2                  59.1232         0.814725  \n",
       "Abdoulaye_Wade1 - Abdoulaye_Wade3                  57.5751         0.858622  \n",
       "Abdoulaye_Wade1 - Abdoulaye_Wade4                   61.746         0.908033  \n",
       "Abdoulaye_Wade1 - Alex_Koji1                       90.9766          1.09712  \n",
       "Abdoulaye_Wade1 - Ariel_Guerreiro1                 74.5911          1.02427  \n",
       "...                                                    ...              ...  \n",
       "Abdoulaye_Wade1 - Paulo_Sestini1                    86.006          1.14077  \n",
       "Abdoulaye_Wade1 - Paulo_Sestini2                    85.395          1.08865  \n",
       "Abdoulaye_Wade1 - Rodrigo_Fill1                    56.7567         0.865565  \n",
       "Abdoulaye_Wade1 - Rodrigo_Fill2                      88.38          1.00607  \n",
       "Abdoulaye_Wade1 - Victor_Jinsi1                    80.5009          1.07004  \n",
       "\n",
       "[62 rows x 12 columns]"
      ]
     },
     "execution_count": 11,
     "metadata": {},
     "output_type": "execute_result"
    }
   ],
   "source": [
    "metrics_one"
   ]
  },
  {
   "cell_type": "code",
   "execution_count": 12,
   "metadata": {
    "executionInfo": {
     "elapsed": 207728,
     "status": "ok",
     "timestamp": 1609007441220,
     "user": {
      "displayName": "Guilherme Lizarzaburu",
      "photoUrl": "",
      "userId": "03523622916475028622"
     },
     "user_tz": 180
    },
    "id": "yDzxbxudwbax"
   },
   "outputs": [],
   "source": [
    "metrics_one.to_pickle('metrics_one.pkl', protocol=4)"
   ]
  },
  {
   "cell_type": "markdown",
   "metadata": {},
   "source": [
    "import pandas as pd\n",
    "metrics_one = pd.read_pickle('metrics_one.pkl')"
   ]
  },
  {
   "cell_type": "code",
   "execution_count": 13,
   "metadata": {
    "colab": {
     "base_uri": "https://localhost:8080/"
    },
    "executionInfo": {
     "elapsed": 210103,
     "status": "ok",
     "timestamp": 1609007443598,
     "user": {
      "displayName": "Guilherme Lizarzaburu",
      "photoUrl": "",
      "userId": "03523622916475028622"
     },
     "user_tz": 180
    },
    "id": "TEgUE1hew51H",
    "outputId": "f038762f-86e3-4fe8-a26e-cf917a038464"
   },
   "outputs": [
    {
     "name": "stderr",
     "output_type": "stream",
     "text": [
      "Avaliando cada pessoa em relação a todas as outras.: 100%|█████████████████████████████| 63/63 [00:01<00:00, 53.44it/s]\n"
     ]
    }
   ],
   "source": [
    "metrics = metrics_dataframe(hash_df, one_compair=False)"
   ]
  },
  {
   "cell_type": "code",
   "execution_count": 14,
   "metadata": {
    "colab": {
     "base_uri": "https://localhost:8080/",
     "height": 632
    },
    "executionInfo": {
     "elapsed": 210100,
     "status": "ok",
     "timestamp": 1609007443599,
     "user": {
      "displayName": "Guilherme Lizarzaburu",
      "photoUrl": "",
      "userId": "03523622916475028622"
     },
     "user_tz": 180
    },
    "id": "dyFQm8Grw5x3",
    "outputId": "160e9932-72e2-40c2-ddf5-cdc733adc1f2"
   },
   "outputs": [
    {
     "data": {
      "text/html": [
       "<div>\n",
       "<style scoped>\n",
       "    .dataframe tbody tr th:only-of-type {\n",
       "        vertical-align: middle;\n",
       "    }\n",
       "\n",
       "    .dataframe tbody tr th {\n",
       "        vertical-align: top;\n",
       "    }\n",
       "\n",
       "    .dataframe thead th {\n",
       "        text-align: right;\n",
       "    }\n",
       "</style>\n",
       "<table border=\"1\" class=\"dataframe\">\n",
       "  <thead>\n",
       "    <tr style=\"text-align: right;\">\n",
       "      <th></th>\n",
       "      <th>Cosine with VGG-Face</th>\n",
       "      <th>Euclidean with VGG-Face</th>\n",
       "      <th>L2 with VGG-Face</th>\n",
       "      <th>Cosine with FaceNet</th>\n",
       "      <th>Euclidean with FaceNet</th>\n",
       "      <th>L2 with FaceNet</th>\n",
       "      <th>Cosine with OpenFace</th>\n",
       "      <th>Euclidean with OpenFace</th>\n",
       "      <th>L2 with OpenFace</th>\n",
       "      <th>Cosine with DeepFace</th>\n",
       "      <th>Euclidean with DeepFace</th>\n",
       "      <th>L2 with DeepFace</th>\n",
       "    </tr>\n",
       "  </thead>\n",
       "  <tbody>\n",
       "    <tr>\n",
       "      <th>Abdoulaye_Wade1 - Abdoulaye_Wade2</th>\n",
       "      <td>0.119339</td>\n",
       "      <td>0.294118</td>\n",
       "      <td>0.488548</td>\n",
       "      <td>0.197377</td>\n",
       "      <td>7.1001</td>\n",
       "      <td>0.628294</td>\n",
       "      <td>0.645822</td>\n",
       "      <td>1.13651</td>\n",
       "      <td>1.13651</td>\n",
       "      <td>0.331888</td>\n",
       "      <td>59.1232</td>\n",
       "      <td>0.814725</td>\n",
       "    </tr>\n",
       "    <tr>\n",
       "      <th>Abdoulaye_Wade1 - Abdoulaye_Wade3</th>\n",
       "      <td>0.177232</td>\n",
       "      <td>0.409664</td>\n",
       "      <td>0.595368</td>\n",
       "      <td>0.641381</td>\n",
       "      <td>9.61579</td>\n",
       "      <td>1.13259</td>\n",
       "      <td>0.270732</td>\n",
       "      <td>0.735842</td>\n",
       "      <td>0.735842</td>\n",
       "      <td>0.368616</td>\n",
       "      <td>57.5751</td>\n",
       "      <td>0.858622</td>\n",
       "    </tr>\n",
       "    <tr>\n",
       "      <th>Abdoulaye_Wade1 - Abdoulaye_Wade4</th>\n",
       "      <td>0.105128</td>\n",
       "      <td>0.299486</td>\n",
       "      <td>0.458537</td>\n",
       "      <td>0.179776</td>\n",
       "      <td>6.67786</td>\n",
       "      <td>0.599626</td>\n",
       "      <td>0.319401</td>\n",
       "      <td>0.799251</td>\n",
       "      <td>0.799251</td>\n",
       "      <td>0.412262</td>\n",
       "      <td>61.746</td>\n",
       "      <td>0.908033</td>\n",
       "    </tr>\n",
       "    <tr>\n",
       "      <th>Abdoulaye_Wade1 - Alex_Koji1</th>\n",
       "      <td>0.383852</td>\n",
       "      <td>0.533748</td>\n",
       "      <td>0.876188</td>\n",
       "      <td>0.704072</td>\n",
       "      <td>13.5515</td>\n",
       "      <td>1.18665</td>\n",
       "      <td>0.847297</td>\n",
       "      <td>1.30177</td>\n",
       "      <td>1.30177</td>\n",
       "      <td>0.60184</td>\n",
       "      <td>90.9766</td>\n",
       "      <td>1.09712</td>\n",
       "    </tr>\n",
       "    <tr>\n",
       "      <th>Abdoulaye_Wade1 - Ariel_Guerreiro1</th>\n",
       "      <td>0.688995</td>\n",
       "      <td>0.805108</td>\n",
       "      <td>1.17388</td>\n",
       "      <td>0.856574</td>\n",
       "      <td>15.0211</td>\n",
       "      <td>1.30887</td>\n",
       "      <td>0.675326</td>\n",
       "      <td>1.16218</td>\n",
       "      <td>1.16218</td>\n",
       "      <td>0.524563</td>\n",
       "      <td>74.5911</td>\n",
       "      <td>1.02427</td>\n",
       "    </tr>\n",
       "    <tr>\n",
       "      <th>...</th>\n",
       "      <td>...</td>\n",
       "      <td>...</td>\n",
       "      <td>...</td>\n",
       "      <td>...</td>\n",
       "      <td>...</td>\n",
       "      <td>...</td>\n",
       "      <td>...</td>\n",
       "      <td>...</td>\n",
       "      <td>...</td>\n",
       "      <td>...</td>\n",
       "      <td>...</td>\n",
       "      <td>...</td>\n",
       "    </tr>\n",
       "    <tr>\n",
       "      <th>Paulo_Sestini2 - Rodrigo_Fill2</th>\n",
       "      <td>0.502268</td>\n",
       "      <td>0.527745</td>\n",
       "      <td>1.00227</td>\n",
       "      <td>0.907008</td>\n",
       "      <td>16.3292</td>\n",
       "      <td>1.34685</td>\n",
       "      <td>0.441489</td>\n",
       "      <td>0.939669</td>\n",
       "      <td>0.939669</td>\n",
       "      <td>0.528061</td>\n",
       "      <td>96.2515</td>\n",
       "      <td>1.02768</td>\n",
       "    </tr>\n",
       "    <tr>\n",
       "      <th>Paulo_Sestini2 - Victor_Jinsi1</th>\n",
       "      <td>0.282057</td>\n",
       "      <td>0.430648</td>\n",
       "      <td>0.751075</td>\n",
       "      <td>0.545566</td>\n",
       "      <td>12.8519</td>\n",
       "      <td>1.04457</td>\n",
       "      <td>0.121737</td>\n",
       "      <td>0.493432</td>\n",
       "      <td>0.493432</td>\n",
       "      <td>0.437388</td>\n",
       "      <td>78.7368</td>\n",
       "      <td>0.935295</td>\n",
       "    </tr>\n",
       "    <tr>\n",
       "      <th>Rodrigo_Fill1 - Rodrigo_Fill2</th>\n",
       "      <td>0.364088</td>\n",
       "      <td>0.292129</td>\n",
       "      <td>0.853332</td>\n",
       "      <td>0.49411</td>\n",
       "      <td>12.016</td>\n",
       "      <td>0.994093</td>\n",
       "      <td>0.257948</td>\n",
       "      <td>0.718258</td>\n",
       "      <td>0.718258</td>\n",
       "      <td>0.283652</td>\n",
       "      <td>69.8178</td>\n",
       "      <td>0.753196</td>\n",
       "    </tr>\n",
       "    <tr>\n",
       "      <th>Rodrigo_Fill1 - Victor_Jinsi1</th>\n",
       "      <td>0.581853</td>\n",
       "      <td>0.485779</td>\n",
       "      <td>1.07875</td>\n",
       "      <td>1.09334</td>\n",
       "      <td>18.1096</td>\n",
       "      <td>1.47874</td>\n",
       "      <td>0.462781</td>\n",
       "      <td>0.962061</td>\n",
       "      <td>0.962062</td>\n",
       "      <td>0.468246</td>\n",
       "      <td>71.855</td>\n",
       "      <td>0.967725</td>\n",
       "    </tr>\n",
       "    <tr>\n",
       "      <th>Rodrigo_Fill2 - Victor_Jinsi1</th>\n",
       "      <td>0.490314</td>\n",
       "      <td>0.467905</td>\n",
       "      <td>0.990267</td>\n",
       "      <td>0.921632</td>\n",
       "      <td>17.0319</td>\n",
       "      <td>1.35767</td>\n",
       "      <td>0.385742</td>\n",
       "      <td>0.878341</td>\n",
       "      <td>0.878341</td>\n",
       "      <td>0.363454</td>\n",
       "      <td>78.808</td>\n",
       "      <td>0.852589</td>\n",
       "    </tr>\n",
       "  </tbody>\n",
       "</table>\n",
       "<p>1953 rows × 12 columns</p>\n",
       "</div>"
      ],
      "text/plain": [
       "                                   Cosine with VGG-Face  \\\n",
       "Abdoulaye_Wade1 - Abdoulaye_Wade2              0.119339   \n",
       "Abdoulaye_Wade1 - Abdoulaye_Wade3              0.177232   \n",
       "Abdoulaye_Wade1 - Abdoulaye_Wade4              0.105128   \n",
       "Abdoulaye_Wade1 - Alex_Koji1                   0.383852   \n",
       "Abdoulaye_Wade1 - Ariel_Guerreiro1             0.688995   \n",
       "...                                                 ...   \n",
       "Paulo_Sestini2 - Rodrigo_Fill2                 0.502268   \n",
       "Paulo_Sestini2 - Victor_Jinsi1                 0.282057   \n",
       "Rodrigo_Fill1 - Rodrigo_Fill2                  0.364088   \n",
       "Rodrigo_Fill1 - Victor_Jinsi1                  0.581853   \n",
       "Rodrigo_Fill2 - Victor_Jinsi1                  0.490314   \n",
       "\n",
       "                                   Euclidean with VGG-Face L2 with VGG-Face  \\\n",
       "Abdoulaye_Wade1 - Abdoulaye_Wade2                 0.294118         0.488548   \n",
       "Abdoulaye_Wade1 - Abdoulaye_Wade3                 0.409664         0.595368   \n",
       "Abdoulaye_Wade1 - Abdoulaye_Wade4                 0.299486         0.458537   \n",
       "Abdoulaye_Wade1 - Alex_Koji1                      0.533748         0.876188   \n",
       "Abdoulaye_Wade1 - Ariel_Guerreiro1                0.805108          1.17388   \n",
       "...                                                    ...              ...   \n",
       "Paulo_Sestini2 - Rodrigo_Fill2                    0.527745          1.00227   \n",
       "Paulo_Sestini2 - Victor_Jinsi1                    0.430648         0.751075   \n",
       "Rodrigo_Fill1 - Rodrigo_Fill2                     0.292129         0.853332   \n",
       "Rodrigo_Fill1 - Victor_Jinsi1                     0.485779          1.07875   \n",
       "Rodrigo_Fill2 - Victor_Jinsi1                     0.467905         0.990267   \n",
       "\n",
       "                                   Cosine with FaceNet Euclidean with FaceNet  \\\n",
       "Abdoulaye_Wade1 - Abdoulaye_Wade2             0.197377                 7.1001   \n",
       "Abdoulaye_Wade1 - Abdoulaye_Wade3             0.641381                9.61579   \n",
       "Abdoulaye_Wade1 - Abdoulaye_Wade4             0.179776                6.67786   \n",
       "Abdoulaye_Wade1 - Alex_Koji1                  0.704072                13.5515   \n",
       "Abdoulaye_Wade1 - Ariel_Guerreiro1            0.856574                15.0211   \n",
       "...                                                ...                    ...   \n",
       "Paulo_Sestini2 - Rodrigo_Fill2                0.907008                16.3292   \n",
       "Paulo_Sestini2 - Victor_Jinsi1                0.545566                12.8519   \n",
       "Rodrigo_Fill1 - Rodrigo_Fill2                  0.49411                 12.016   \n",
       "Rodrigo_Fill1 - Victor_Jinsi1                  1.09334                18.1096   \n",
       "Rodrigo_Fill2 - Victor_Jinsi1                 0.921632                17.0319   \n",
       "\n",
       "                                   L2 with FaceNet Cosine with OpenFace  \\\n",
       "Abdoulaye_Wade1 - Abdoulaye_Wade2         0.628294             0.645822   \n",
       "Abdoulaye_Wade1 - Abdoulaye_Wade3          1.13259             0.270732   \n",
       "Abdoulaye_Wade1 - Abdoulaye_Wade4         0.599626             0.319401   \n",
       "Abdoulaye_Wade1 - Alex_Koji1               1.18665             0.847297   \n",
       "Abdoulaye_Wade1 - Ariel_Guerreiro1         1.30887             0.675326   \n",
       "...                                            ...                  ...   \n",
       "Paulo_Sestini2 - Rodrigo_Fill2             1.34685             0.441489   \n",
       "Paulo_Sestini2 - Victor_Jinsi1             1.04457             0.121737   \n",
       "Rodrigo_Fill1 - Rodrigo_Fill2             0.994093             0.257948   \n",
       "Rodrigo_Fill1 - Victor_Jinsi1              1.47874             0.462781   \n",
       "Rodrigo_Fill2 - Victor_Jinsi1              1.35767             0.385742   \n",
       "\n",
       "                                   Euclidean with OpenFace L2 with OpenFace  \\\n",
       "Abdoulaye_Wade1 - Abdoulaye_Wade2                  1.13651          1.13651   \n",
       "Abdoulaye_Wade1 - Abdoulaye_Wade3                 0.735842         0.735842   \n",
       "Abdoulaye_Wade1 - Abdoulaye_Wade4                 0.799251         0.799251   \n",
       "Abdoulaye_Wade1 - Alex_Koji1                       1.30177          1.30177   \n",
       "Abdoulaye_Wade1 - Ariel_Guerreiro1                 1.16218          1.16218   \n",
       "...                                                    ...              ...   \n",
       "Paulo_Sestini2 - Rodrigo_Fill2                    0.939669         0.939669   \n",
       "Paulo_Sestini2 - Victor_Jinsi1                    0.493432         0.493432   \n",
       "Rodrigo_Fill1 - Rodrigo_Fill2                     0.718258         0.718258   \n",
       "Rodrigo_Fill1 - Victor_Jinsi1                     0.962061         0.962062   \n",
       "Rodrigo_Fill2 - Victor_Jinsi1                     0.878341         0.878341   \n",
       "\n",
       "                                   Cosine with DeepFace  \\\n",
       "Abdoulaye_Wade1 - Abdoulaye_Wade2              0.331888   \n",
       "Abdoulaye_Wade1 - Abdoulaye_Wade3              0.368616   \n",
       "Abdoulaye_Wade1 - Abdoulaye_Wade4              0.412262   \n",
       "Abdoulaye_Wade1 - Alex_Koji1                    0.60184   \n",
       "Abdoulaye_Wade1 - Ariel_Guerreiro1             0.524563   \n",
       "...                                                 ...   \n",
       "Paulo_Sestini2 - Rodrigo_Fill2                 0.528061   \n",
       "Paulo_Sestini2 - Victor_Jinsi1                 0.437388   \n",
       "Rodrigo_Fill1 - Rodrigo_Fill2                  0.283652   \n",
       "Rodrigo_Fill1 - Victor_Jinsi1                  0.468246   \n",
       "Rodrigo_Fill2 - Victor_Jinsi1                  0.363454   \n",
       "\n",
       "                                   Euclidean with DeepFace L2 with DeepFace  \n",
       "Abdoulaye_Wade1 - Abdoulaye_Wade2                  59.1232         0.814725  \n",
       "Abdoulaye_Wade1 - Abdoulaye_Wade3                  57.5751         0.858622  \n",
       "Abdoulaye_Wade1 - Abdoulaye_Wade4                   61.746         0.908033  \n",
       "Abdoulaye_Wade1 - Alex_Koji1                       90.9766          1.09712  \n",
       "Abdoulaye_Wade1 - Ariel_Guerreiro1                 74.5911          1.02427  \n",
       "...                                                    ...              ...  \n",
       "Paulo_Sestini2 - Rodrigo_Fill2                     96.2515          1.02768  \n",
       "Paulo_Sestini2 - Victor_Jinsi1                     78.7368         0.935295  \n",
       "Rodrigo_Fill1 - Rodrigo_Fill2                      69.8178         0.753196  \n",
       "Rodrigo_Fill1 - Victor_Jinsi1                       71.855         0.967725  \n",
       "Rodrigo_Fill2 - Victor_Jinsi1                       78.808         0.852589  \n",
       "\n",
       "[1953 rows x 12 columns]"
      ]
     },
     "execution_count": 14,
     "metadata": {},
     "output_type": "execute_result"
    }
   ],
   "source": [
    "metrics"
   ]
  },
  {
   "cell_type": "code",
   "execution_count": 15,
   "metadata": {
    "executionInfo": {
     "elapsed": 210097,
     "status": "ok",
     "timestamp": 1609007443600,
     "user": {
      "displayName": "Guilherme Lizarzaburu",
      "photoUrl": "",
      "userId": "03523622916475028622"
     },
     "user_tz": 180
    },
    "id": "k_pym_JFw5vZ"
   },
   "outputs": [],
   "source": [
    "metrics.to_pickle('metrics.pkl', protocol=4)"
   ]
  },
  {
   "cell_type": "markdown",
   "metadata": {},
   "source": [
    "import pandas as pd\n",
    "metrics = pd.read_pickle('metrics.pkl')"
   ]
  },
  {
   "cell_type": "code",
   "execution_count": 16,
   "metadata": {
    "colab": {
     "base_uri": "https://localhost:8080/"
    },
    "executionInfo": {
     "elapsed": 211319,
     "status": "ok",
     "timestamp": 1609007444826,
     "user": {
      "displayName": "Guilherme Lizarzaburu",
      "photoUrl": "",
      "userId": "03523622916475028622"
     },
     "user_tz": 180
    },
    "id": "hMuS7hG5Pzy_",
    "outputId": "3f033948-c06b-4739-e256-138eab7abfe5",
    "scrolled": true
   },
   "outputs": [
    {
     "ename": "OSError",
     "evalue": "[WinError 8] Não há recursos de memória disponíveis suficientes para processar este comando",
     "output_type": "error",
     "traceback": [
      "\u001b[1;31m---------------------------------------------------------------------------\u001b[0m",
      "\u001b[1;31mOSError\u001b[0m                                   Traceback (most recent call last)",
      "\u001b[1;32m<ipython-input-16-634a8fbde7b7>\u001b[0m in \u001b[0;36m<module>\u001b[1;34m\u001b[0m\n\u001b[1;32m----> 1\u001b[1;33m \u001b[0mverification_one\u001b[0m \u001b[1;33m=\u001b[0m \u001b[0mverification_dataframe\u001b[0m\u001b[1;33m(\u001b[0m\u001b[0mmetrics_one\u001b[0m\u001b[1;33m,\u001b[0m \u001b[0mthreshold\u001b[0m\u001b[1;33m=\u001b[0m\u001b[1;36m.5\u001b[0m\u001b[1;33m)\u001b[0m\u001b[1;33m\u001b[0m\u001b[1;33m\u001b[0m\u001b[0m\n\u001b[0m",
      "\u001b[1;32m~\\OneDrive\\Área de Trabalho\\Repositories\\deepface-experiments\\deepface_functions.py\u001b[0m in \u001b[0;36mverification_dataframe\u001b[1;34m(metrics_df, threshold)\u001b[0m\n\u001b[0;32m    224\u001b[0m \u001b[1;33m\u001b[0m\u001b[0m\n\u001b[0;32m    225\u001b[0m         \u001b[0mmetrics_df\u001b[0m \u001b[1;33m=\u001b[0m \u001b[0mmetrics_df\u001b[0m\u001b[1;33m.\u001b[0m\u001b[0mdrop\u001b[0m\u001b[1;33m(\u001b[0m\u001b[1;34m'Euclidean with OpenFace'\u001b[0m\u001b[1;33m,\u001b[0m \u001b[0maxis\u001b[0m \u001b[1;33m=\u001b[0m \u001b[1;36m1\u001b[0m\u001b[1;33m)\u001b[0m\u001b[1;33m\u001b[0m\u001b[1;33m\u001b[0m\u001b[0m\n\u001b[1;32m--> 226\u001b[1;33m         \u001b[0mdeepface_ensemble\u001b[0m \u001b[1;33m=\u001b[0m \u001b[0mBoosting\u001b[0m\u001b[1;33m.\u001b[0m\u001b[0mbuild_gbm\u001b[0m\u001b[1;33m(\u001b[0m\u001b[1;33m)\u001b[0m\u001b[1;33m\u001b[0m\u001b[1;33m\u001b[0m\u001b[0m\n\u001b[0m\u001b[0;32m    227\u001b[0m \u001b[1;33m\u001b[0m\u001b[0m\n\u001b[0;32m    228\u001b[0m         \u001b[0mcomp_pbar\u001b[0m \u001b[1;33m=\u001b[0m \u001b[0mtqdm\u001b[0m\u001b[1;33m(\u001b[0m\u001b[0mrange\u001b[0m\u001b[1;33m(\u001b[0m\u001b[0mlen\u001b[0m\u001b[1;33m(\u001b[0m\u001b[0mmetrics_df\u001b[0m\u001b[1;33m.\u001b[0m\u001b[0mindex\u001b[0m\u001b[1;33m)\u001b[0m\u001b[1;33m)\u001b[0m\u001b[1;33m,\u001b[0m \u001b[0mdesc\u001b[0m \u001b[1;33m=\u001b[0m \u001b[1;34m'Realizando a verificação para cada par de indivíduos...'\u001b[0m\u001b[1;33m)\u001b[0m\u001b[1;33m\u001b[0m\u001b[1;33m\u001b[0m\u001b[0m\n",
      "\u001b[1;32m~\\OneDrive\\Área de Trabalho\\Repositories\\deepface-experiments\\deepface\\basemodels\\Boosting.py\u001b[0m in \u001b[0;36mbuild_gbm\u001b[1;34m()\u001b[0m\n\u001b[0;32m     42\u001b[0m \u001b[1;33m\u001b[0m\u001b[0m\n\u001b[0;32m     43\u001b[0m         \u001b[1;31m#this is not a must dependency\u001b[0m\u001b[1;33m\u001b[0m\u001b[1;33m\u001b[0m\u001b[1;33m\u001b[0m\u001b[0m\n\u001b[1;32m---> 44\u001b[1;33m         \u001b[1;32mimport\u001b[0m \u001b[0mlightgbm\u001b[0m \u001b[1;32mas\u001b[0m \u001b[0mlgb\u001b[0m \u001b[1;31m#lightgbm==2.3.1\u001b[0m\u001b[1;33m\u001b[0m\u001b[1;33m\u001b[0m\u001b[0m\n\u001b[0m\u001b[0;32m     45\u001b[0m \u001b[1;33m\u001b[0m\u001b[0m\n\u001b[0;32m     46\u001b[0m         \u001b[0mhome\u001b[0m \u001b[1;33m=\u001b[0m \u001b[0mstr\u001b[0m\u001b[1;33m(\u001b[0m\u001b[0mPath\u001b[0m\u001b[1;33m.\u001b[0m\u001b[0mhome\u001b[0m\u001b[1;33m(\u001b[0m\u001b[1;33m)\u001b[0m\u001b[1;33m)\u001b[0m\u001b[1;33m\u001b[0m\u001b[1;33m\u001b[0m\u001b[0m\n",
      "\u001b[1;32m~\\Anaconda3\\envs\\deepface\\lib\\site-packages\\lightgbm\\__init__.py\u001b[0m in \u001b[0;36m<module>\u001b[1;34m\u001b[0m\n\u001b[0;32m      6\u001b[0m \u001b[1;32mfrom\u001b[0m \u001b[0m__future__\u001b[0m \u001b[1;32mimport\u001b[0m \u001b[0mabsolute_import\u001b[0m\u001b[1;33m\u001b[0m\u001b[1;33m\u001b[0m\u001b[0m\n\u001b[0;32m      7\u001b[0m \u001b[1;33m\u001b[0m\u001b[0m\n\u001b[1;32m----> 8\u001b[1;33m \u001b[1;32mfrom\u001b[0m \u001b[1;33m.\u001b[0m\u001b[0mbasic\u001b[0m \u001b[1;32mimport\u001b[0m \u001b[0mBooster\u001b[0m\u001b[1;33m,\u001b[0m \u001b[0mDataset\u001b[0m\u001b[1;33m\u001b[0m\u001b[1;33m\u001b[0m\u001b[0m\n\u001b[0m\u001b[0;32m      9\u001b[0m from .callback import (early_stopping, print_evaluation, record_evaluation,\n\u001b[0;32m     10\u001b[0m                        reset_parameter)\n",
      "\u001b[1;32m~\\Anaconda3\\envs\\deepface\\lib\\site-packages\\lightgbm\\basic.py\u001b[0m in \u001b[0;36m<module>\u001b[1;34m\u001b[0m\n\u001b[0;32m     41\u001b[0m \u001b[1;33m\u001b[0m\u001b[0m\n\u001b[0;32m     42\u001b[0m \u001b[1;33m\u001b[0m\u001b[0m\n\u001b[1;32m---> 43\u001b[1;33m \u001b[0m_LIB\u001b[0m \u001b[1;33m=\u001b[0m \u001b[0m_load_lib\u001b[0m\u001b[1;33m(\u001b[0m\u001b[1;33m)\u001b[0m\u001b[1;33m\u001b[0m\u001b[1;33m\u001b[0m\u001b[0m\n\u001b[0m\u001b[0;32m     44\u001b[0m \u001b[1;33m\u001b[0m\u001b[0m\n\u001b[0;32m     45\u001b[0m \u001b[1;33m\u001b[0m\u001b[0m\n",
      "\u001b[1;32m~\\Anaconda3\\envs\\deepface\\lib\\site-packages\\lightgbm\\basic.py\u001b[0m in \u001b[0;36m_load_lib\u001b[1;34m()\u001b[0m\n\u001b[0;32m     32\u001b[0m     \u001b[1;32mif\u001b[0m \u001b[0mlen\u001b[0m\u001b[1;33m(\u001b[0m\u001b[0mlib_path\u001b[0m\u001b[1;33m)\u001b[0m \u001b[1;33m==\u001b[0m \u001b[1;36m0\u001b[0m\u001b[1;33m:\u001b[0m\u001b[1;33m\u001b[0m\u001b[1;33m\u001b[0m\u001b[0m\n\u001b[0;32m     33\u001b[0m         \u001b[1;32mreturn\u001b[0m \u001b[1;32mNone\u001b[0m\u001b[1;33m\u001b[0m\u001b[1;33m\u001b[0m\u001b[0m\n\u001b[1;32m---> 34\u001b[1;33m     \u001b[0mlib\u001b[0m \u001b[1;33m=\u001b[0m \u001b[0mctypes\u001b[0m\u001b[1;33m.\u001b[0m\u001b[0mcdll\u001b[0m\u001b[1;33m.\u001b[0m\u001b[0mLoadLibrary\u001b[0m\u001b[1;33m(\u001b[0m\u001b[0mlib_path\u001b[0m\u001b[1;33m[\u001b[0m\u001b[1;36m0\u001b[0m\u001b[1;33m]\u001b[0m\u001b[1;33m)\u001b[0m\u001b[1;33m\u001b[0m\u001b[1;33m\u001b[0m\u001b[0m\n\u001b[0m\u001b[0;32m     35\u001b[0m     \u001b[0mlib\u001b[0m\u001b[1;33m.\u001b[0m\u001b[0mLGBM_GetLastError\u001b[0m\u001b[1;33m.\u001b[0m\u001b[0mrestype\u001b[0m \u001b[1;33m=\u001b[0m \u001b[0mctypes\u001b[0m\u001b[1;33m.\u001b[0m\u001b[0mc_char_p\u001b[0m\u001b[1;33m\u001b[0m\u001b[1;33m\u001b[0m\u001b[0m\n\u001b[0;32m     36\u001b[0m     \u001b[0mcallback\u001b[0m \u001b[1;33m=\u001b[0m \u001b[0mctypes\u001b[0m\u001b[1;33m.\u001b[0m\u001b[0mCFUNCTYPE\u001b[0m\u001b[1;33m(\u001b[0m\u001b[1;32mNone\u001b[0m\u001b[1;33m,\u001b[0m \u001b[0mctypes\u001b[0m\u001b[1;33m.\u001b[0m\u001b[0mc_char_p\u001b[0m\u001b[1;33m)\u001b[0m\u001b[1;33m\u001b[0m\u001b[1;33m\u001b[0m\u001b[0m\n",
      "\u001b[1;32m~\\Anaconda3\\envs\\deepface\\lib\\ctypes\\__init__.py\u001b[0m in \u001b[0;36mLoadLibrary\u001b[1;34m(self, name)\u001b[0m\n\u001b[0;32m    445\u001b[0m \u001b[1;33m\u001b[0m\u001b[0m\n\u001b[0;32m    446\u001b[0m     \u001b[1;32mdef\u001b[0m \u001b[0mLoadLibrary\u001b[0m\u001b[1;33m(\u001b[0m\u001b[0mself\u001b[0m\u001b[1;33m,\u001b[0m \u001b[0mname\u001b[0m\u001b[1;33m)\u001b[0m\u001b[1;33m:\u001b[0m\u001b[1;33m\u001b[0m\u001b[1;33m\u001b[0m\u001b[0m\n\u001b[1;32m--> 447\u001b[1;33m         \u001b[1;32mreturn\u001b[0m \u001b[0mself\u001b[0m\u001b[1;33m.\u001b[0m\u001b[0m_dlltype\u001b[0m\u001b[1;33m(\u001b[0m\u001b[0mname\u001b[0m\u001b[1;33m)\u001b[0m\u001b[1;33m\u001b[0m\u001b[1;33m\u001b[0m\u001b[0m\n\u001b[0m\u001b[0;32m    448\u001b[0m \u001b[1;33m\u001b[0m\u001b[0m\n\u001b[0;32m    449\u001b[0m \u001b[0mcdll\u001b[0m \u001b[1;33m=\u001b[0m \u001b[0mLibraryLoader\u001b[0m\u001b[1;33m(\u001b[0m\u001b[0mCDLL\u001b[0m\u001b[1;33m)\u001b[0m\u001b[1;33m\u001b[0m\u001b[1;33m\u001b[0m\u001b[0m\n",
      "\u001b[1;32m~\\Anaconda3\\envs\\deepface\\lib\\ctypes\\__init__.py\u001b[0m in \u001b[0;36m__init__\u001b[1;34m(self, name, mode, handle, use_errno, use_last_error, winmode)\u001b[0m\n\u001b[0;32m    367\u001b[0m \u001b[1;33m\u001b[0m\u001b[0m\n\u001b[0;32m    368\u001b[0m         \u001b[1;32mif\u001b[0m \u001b[0mhandle\u001b[0m \u001b[1;32mis\u001b[0m \u001b[1;32mNone\u001b[0m\u001b[1;33m:\u001b[0m\u001b[1;33m\u001b[0m\u001b[1;33m\u001b[0m\u001b[0m\n\u001b[1;32m--> 369\u001b[1;33m             \u001b[0mself\u001b[0m\u001b[1;33m.\u001b[0m\u001b[0m_handle\u001b[0m \u001b[1;33m=\u001b[0m \u001b[0m_dlopen\u001b[0m\u001b[1;33m(\u001b[0m\u001b[0mself\u001b[0m\u001b[1;33m.\u001b[0m\u001b[0m_name\u001b[0m\u001b[1;33m,\u001b[0m \u001b[0mmode\u001b[0m\u001b[1;33m)\u001b[0m\u001b[1;33m\u001b[0m\u001b[1;33m\u001b[0m\u001b[0m\n\u001b[0m\u001b[0;32m    370\u001b[0m         \u001b[1;32melse\u001b[0m\u001b[1;33m:\u001b[0m\u001b[1;33m\u001b[0m\u001b[1;33m\u001b[0m\u001b[0m\n\u001b[0;32m    371\u001b[0m             \u001b[0mself\u001b[0m\u001b[1;33m.\u001b[0m\u001b[0m_handle\u001b[0m \u001b[1;33m=\u001b[0m \u001b[0mhandle\u001b[0m\u001b[1;33m\u001b[0m\u001b[1;33m\u001b[0m\u001b[0m\n",
      "\u001b[1;31mOSError\u001b[0m: [WinError 8] Não há recursos de memória disponíveis suficientes para processar este comando"
     ]
    }
   ],
   "source": [
    "verification_one = verification_dataframe(metrics_one, threshold=.5)"
   ]
  },
  {
   "cell_type": "code",
   "execution_count": null,
   "metadata": {
    "colab": {
     "base_uri": "https://localhost:8080/",
     "height": 1000
    },
    "executionInfo": {
     "elapsed": 211319,
     "status": "ok",
     "timestamp": 1609007444829,
     "user": {
      "displayName": "Guilherme Lizarzaburu",
      "photoUrl": "",
      "userId": "03523622916475028622"
     },
     "user_tz": 180
    },
    "id": "r_f9iu8UWfnT",
    "outputId": "878fdddb-4d79-455e-f5e9-ab2e2e2ca829"
   },
   "outputs": [],
   "source": [
    "verification_one"
   ]
  },
  {
   "cell_type": "code",
   "execution_count": null,
   "metadata": {
    "executionInfo": {
     "elapsed": 211609,
     "status": "ok",
     "timestamp": 1609007445121,
     "user": {
      "displayName": "Guilherme Lizarzaburu",
      "photoUrl": "",
      "userId": "03523622916475028622"
     },
     "user_tz": 180
    },
    "id": "U4YJI43FZuUR"
   },
   "outputs": [],
   "source": [
    "verification_one.to_pickle('verification_one.pkl', protocol=4)"
   ]
  },
  {
   "cell_type": "markdown",
   "metadata": {},
   "source": [
    "import pandas as pd\n",
    "verification_one = pd.read_pickle('verification_one.pkl')"
   ]
  },
  {
   "cell_type": "code",
   "execution_count": null,
   "metadata": {
    "colab": {
     "base_uri": "https://localhost:8080/"
    },
    "executionInfo": {
     "elapsed": 212207,
     "status": "ok",
     "timestamp": 1609007445721,
     "user": {
      "displayName": "Guilherme Lizarzaburu",
      "photoUrl": "",
      "userId": "03523622916475028622"
     },
     "user_tz": 180
    },
    "id": "RfwYNdi4ZjY6",
    "outputId": "5e83322c-0a6a-44f3-eaab-8b3a3acaa114",
    "scrolled": true
   },
   "outputs": [],
   "source": [
    "verification = verification_dataframe(metrics, threshold=.5)"
   ]
  },
  {
   "cell_type": "code",
   "execution_count": null,
   "metadata": {},
   "outputs": [],
   "source": [
    "import pandas as pd\n",
    "pd.set_option('display.max_rows', 1000)"
   ]
  },
  {
   "cell_type": "code",
   "execution_count": null,
   "metadata": {
    "colab": {
     "base_uri": "https://localhost:8080/",
     "height": 424
    },
    "executionInfo": {
     "elapsed": 212205,
     "status": "ok",
     "timestamp": 1609007445722,
     "user": {
      "displayName": "Guilherme Lizarzaburu",
      "photoUrl": "",
      "userId": "03523622916475028622"
     },
     "user_tz": 180
    },
    "id": "KaFc1jCRZ99B",
    "outputId": "3366ed16-d359-4aae-e07a-2a05e4194520",
    "scrolled": false
   },
   "outputs": [],
   "source": [
    "verification.loc[verification['Ground Truth'] == 'true']"
   ]
  },
  {
   "cell_type": "code",
   "execution_count": null,
   "metadata": {
    "colab": {
     "base_uri": "https://localhost:8080/",
     "height": 424
    },
    "executionInfo": {
     "elapsed": 212206,
     "status": "ok",
     "timestamp": 1609007445725,
     "user": {
      "displayName": "Guilherme Lizarzaburu",
      "photoUrl": "",
      "userId": "03523622916475028622"
     },
     "user_tz": 180
    },
    "id": "3VWkYIVvaeep",
    "outputId": "1e9a5d37-a8cf-4ffb-9649-8f9b28b4c369",
    "scrolled": true
   },
   "outputs": [],
   "source": [
    "verification.loc[verification['Ground Truth'] == 'false']"
   ]
  },
  {
   "cell_type": "code",
   "execution_count": null,
   "metadata": {
    "executionInfo": {
     "elapsed": 212755,
     "status": "ok",
     "timestamp": 1609007446276,
     "user": {
      "displayName": "Guilherme Lizarzaburu",
      "photoUrl": "",
      "userId": "03523622916475028622"
     },
     "user_tz": 180
    },
    "id": "U4PBAq5zZjWh"
   },
   "outputs": [],
   "source": [
    "verification.to_pickle('verification.pkl', protocol=4)"
   ]
  },
  {
   "cell_type": "markdown",
   "metadata": {
    "executionInfo": {
     "elapsed": 754,
     "status": "ok",
     "timestamp": 1609009532668,
     "user": {
      "displayName": "Guilherme Lizarzaburu",
      "photoUrl": "",
      "userId": "03523622916475028622"
     },
     "user_tz": 180
    },
    "id": "8jgP5lt2bhIz"
   },
   "source": [
    "import pandas as pd\n",
    "\n",
    "verification = pd.read_pickle('verification.pkl')"
   ]
  },
  {
   "cell_type": "code",
   "execution_count": null,
   "metadata": {
    "executionInfo": {
     "elapsed": 1352,
     "status": "ok",
     "timestamp": 1609009541153,
     "user": {
      "displayName": "Guilherme Lizarzaburu",
      "photoUrl": "",
      "userId": "03523622916475028622"
     },
     "user_tz": 180
    },
    "id": "-GeSiS4HbLvI"
   },
   "outputs": [],
   "source": [
    "f1 = f1_calculation(verification)"
   ]
  },
  {
   "cell_type": "code",
   "execution_count": null,
   "metadata": {
    "colab": {
     "base_uri": "https://localhost:8080/",
     "height": 81
    },
    "executionInfo": {
     "elapsed": 709,
     "status": "ok",
     "timestamp": 1609009545854,
     "user": {
      "displayName": "Guilherme Lizarzaburu",
      "photoUrl": "",
      "userId": "03523622916475028622"
     },
     "user_tz": 180
    },
    "id": "jdKMzJ3XbLel",
    "outputId": "fac1bc8c-a87a-4393-8287-85e7c54959cc"
   },
   "outputs": [],
   "source": [
    "f1"
   ]
  },
  {
   "cell_type": "code",
   "execution_count": null,
   "metadata": {},
   "outputs": [],
   "source": []
  }
 ],
 "metadata": {
  "accelerator": "GPU",
  "colab": {
   "authorship_tag": "ABX9TyPBSzEPIp7gTRbH14iCTteg",
   "collapsed_sections": [],
   "mount_file_id": "1HCwyCGS5CtAjyPm2ayNEuixbLgUEnGTz",
   "name": "deepface_method.ipynb",
   "provenance": []
  },
  "kernelspec": {
   "display_name": "Python 3",
   "language": "python",
   "name": "python3"
  },
  "language_info": {
   "codemirror_mode": {
    "name": "ipython",
    "version": 3
   },
   "file_extension": ".py",
   "mimetype": "text/x-python",
   "name": "python",
   "nbconvert_exporter": "python",
   "pygments_lexer": "ipython3",
   "version": "3.8.0"
  }
 },
 "nbformat": 4,
 "nbformat_minor": 1
}
